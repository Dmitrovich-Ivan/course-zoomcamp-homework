{
 "cells": [
  {
   "cell_type": "code",
   "execution_count": 1,
   "id": "26f1f5bd",
   "metadata": {},
   "outputs": [],
   "source": [
    "import requests"
   ]
  },
  {
   "cell_type": "markdown",
   "id": "4c860b79",
   "metadata": {},
   "source": [
    "## Flask test using waitress\n",
    "\n",
    "```waitress-serve --listen=0.0.0.0:9696 web_predict:app```\n"
   ]
  },
  {
   "cell_type": "code",
   "execution_count": 5,
   "id": "694d9286",
   "metadata": {},
   "outputs": [],
   "source": [
    "url = 'http://localhost:9696/predict'"
   ]
  },
  {
   "cell_type": "code",
   "execution_count": 6,
   "id": "4963cbc1",
   "metadata": {},
   "outputs": [],
   "source": [
    "record = {\"reports\": 0, \"share\": 0.245, \"expenditure\": 3.438, \"owner\": \"yes\"}"
   ]
  },
  {
   "cell_type": "code",
   "execution_count": 7,
   "id": "38c48ebd",
   "metadata": {},
   "outputs": [
    {
     "data": {
      "text/plain": [
       "{'decision': True, 'predicted probability': 0.9282218018527452}"
      ]
     },
     "execution_count": 7,
     "metadata": {},
     "output_type": "execute_result"
    }
   ],
   "source": [
    "requests.post(url, json = record).json()"
   ]
  },
  {
   "cell_type": "markdown",
   "id": "10f2abd1",
   "metadata": {},
   "source": [
    "## Docker container test"
   ]
  },
  {
   "cell_type": "code",
   "execution_count": 12,
   "id": "4c61b331",
   "metadata": {},
   "outputs": [
    {
     "data": {
      "text/plain": [
       "{'decision': True, 'predicted probability': 0.7692649226628628}"
      ]
     },
     "execution_count": 12,
     "metadata": {},
     "output_type": "execute_result"
    }
   ],
   "source": [
    "url = 'http://localhost:9696/predict'\n",
    "client = {\"reports\": 0, \"share\": 0.245, \"expenditure\": 3.438, \"owner\": \"yes\"}\n",
    "requests.post(url, json=client).json()"
   ]
  }
 ],
 "metadata": {
  "kernelspec": {
   "display_name": "Python 3 (ipykernel)",
   "language": "python",
   "name": "python3"
  },
  "language_info": {
   "codemirror_mode": {
    "name": "ipython",
    "version": 3
   },
   "file_extension": ".py",
   "mimetype": "text/x-python",
   "name": "python",
   "nbconvert_exporter": "python",
   "pygments_lexer": "ipython3",
   "version": "3.9.13"
  }
 },
 "nbformat": 4,
 "nbformat_minor": 5
}

{
 "cells": [
  {
   "cell_type": "code",
   "execution_count": 1,
   "id": "48272584",
   "metadata": {},
   "outputs": [
    {
     "name": "stderr",
     "output_type": "stream",
     "text": [
      "C:\\ProgramData\\Anaconda3\\envs\\ml-zoomcamp\\lib\\site-packages\\xgboost\\compat.py:36: FutureWarning: pandas.Int64Index is deprecated and will be removed from pandas in a future version. Use pandas.Index with the appropriate dtype instead.\n",
      "  from pandas import MultiIndex, Int64Index\n"
     ]
    }
   ],
   "source": [
    "import re\n",
    "import numpy as np\n",
    "import pandas as pd\n",
    "import seaborn as sns\n",
    "import xgboost as xgb\n",
    "import matplotlib.pyplot as plt\n",
    "from tqdm.auto import tqdm\n",
    "from sklearn.tree import DecisionTreeRegressor\n",
    "from sklearn.tree import export_text\n",
    "from sklearn.feature_extraction import DictVectorizer\n",
    "from sklearn.model_selection import train_test_split\n",
    "from sklearn.ensemble import RandomForestRegressor\n",
    "from sklearn.metrics import mean_squared_error\n",
    "\n",
    "%matplotlib inline"
   ]
  },
  {
   "cell_type": "code",
   "execution_count": 4,
   "id": "54b0b292",
   "metadata": {},
   "outputs": [
    {
     "name": "stderr",
     "output_type": "stream",
     "text": [
      "--2022-10-16 16:10:06--  https://raw.githubusercontent.com/alexeygrigorev/datasets/master/housing.csv\n",
      "Resolving raw.githubusercontent.com (raw.githubusercontent.com)... 185.199.110.133, 185.199.111.133, 185.199.108.133, ...\n",
      "Connecting to raw.githubusercontent.com (raw.githubusercontent.com)|185.199.110.133|:443... connected.\n",
      "HTTP request sent, awaiting response... 200 OK\n",
      "Length: 1423529 (1.4M) [text/plain]\n",
      "Saving to: 'housing.csv'\n",
      "\n",
      "     0K .......... .......... .......... .......... ..........  3%  901K 1s\n",
      "    50K .......... .......... .......... .......... ..........  7% 3.46M 1s\n",
      "   100K .......... .......... .......... .......... .......... 10% 1.46M 1s\n",
      "   150K .......... .......... .......... .......... .......... 14% 4.85M 1s\n",
      "   200K .......... .......... .......... .......... .......... 17% 1.57M 1s\n",
      "   250K .......... .......... .......... .......... .......... 21% 4.36M 1s\n",
      "   300K .......... .......... .......... .......... .......... 25% 5.20M 0s\n",
      "   350K .......... .......... .......... .......... .......... 28% 1.08M 1s\n",
      "   400K .......... .......... .......... .......... .......... 32% 17.5M 0s\n",
      "   450K .......... .......... .......... .......... .......... 35% 64.3M 0s\n",
      "   500K .......... .......... .......... .......... .......... 39% 3.06M 0s\n",
      "   550K .......... .......... .......... .......... .......... 43% 23.7M 0s\n",
      "   600K .......... .......... .......... .......... .......... 46% 3.09M 0s\n",
      "   650K .......... .......... .......... .......... .......... 50% 30.4M 0s\n",
      "   700K .......... .......... .......... .......... .......... 53%  107M 0s\n",
      "   750K .......... .......... .......... .......... .......... 57% 11.0M 0s\n",
      "   800K .......... .......... .......... .......... .......... 61% 14.7M 0s\n",
      "   850K .......... .......... .......... .......... .......... 64% 11.1M 0s\n",
      "   900K .......... .......... .......... .......... .......... 68% 12.6M 0s\n",
      "   950K .......... .......... .......... .......... .......... 71% 9.70M 0s\n",
      "  1000K .......... .......... .......... .......... .......... 75%  976K 0s\n",
      "  1050K .......... .......... .......... .......... .......... 79% 11.4M 0s\n",
      "  1100K .......... .......... .......... .......... .......... 82% 29.7M 0s\n",
      "  1150K .......... .......... .......... .......... .......... 86% 15.6M 0s\n",
      "  1200K .......... .......... .......... .......... .......... 89% 68.3M 0s\n",
      "  1250K .......... .......... .......... .......... .......... 93% 73.2M 0s\n",
      "  1300K .......... .......... .......... .......... .......... 97% 75.9M 0s\n",
      "  1350K .......... .......... .......... ..........           100%  113M=0.3s\n",
      "\n",
      "2022-10-16 16:10:07 (4.08 MB/s) - 'housing.csv' saved [1423529/1423529]\n",
      "\n"
     ]
    }
   ],
   "source": [
    "!wget https://raw.githubusercontent.com/alexeygrigorev/datasets/master/housing.csv"
   ]
  },
  {
   "cell_type": "markdown",
   "id": "3a246f6b",
   "metadata": {},
   "source": [
    "## Loading the data\n",
    "\n",
    "Use only the following columns:\n",
    "    'latitude',\n",
    "    'longitude',\n",
    "    'housing_median_age',\n",
    "    'total_rooms',\n",
    "    'total_bedrooms',\n",
    "    'population',\n",
    "    'households',\n",
    "    'median_income',\n",
    "    'median_house_value',\n",
    "    'ocean_proximity'\n",
    "\n",
    "* Fill NAs with 0.\n",
    "* Apply the log tranform to `median_house_value`.\n",
    "* Do train/validation/test split with 60%/20%/20% distribution. \n",
    "* Use the `train_test_split` function and set the `random_state` parameter to 1.\n",
    "* Use `DictVectorizer` to turn the dataframe into matrices.\n"
   ]
  },
  {
   "cell_type": "code",
   "execution_count": 2,
   "id": "5062cbe1",
   "metadata": {},
   "outputs": [
    {
     "data": {
      "text/html": [
       "<div>\n",
       "<style scoped>\n",
       "    .dataframe tbody tr th:only-of-type {\n",
       "        vertical-align: middle;\n",
       "    }\n",
       "\n",
       "    .dataframe tbody tr th {\n",
       "        vertical-align: top;\n",
       "    }\n",
       "\n",
       "    .dataframe thead th {\n",
       "        text-align: right;\n",
       "    }\n",
       "</style>\n",
       "<table border=\"1\" class=\"dataframe\">\n",
       "  <thead>\n",
       "    <tr style=\"text-align: right;\">\n",
       "      <th></th>\n",
       "      <th>longitude</th>\n",
       "      <th>latitude</th>\n",
       "      <th>housing_median_age</th>\n",
       "      <th>total_rooms</th>\n",
       "      <th>total_bedrooms</th>\n",
       "      <th>population</th>\n",
       "      <th>households</th>\n",
       "      <th>median_income</th>\n",
       "      <th>median_house_value</th>\n",
       "      <th>ocean_proximity</th>\n",
       "    </tr>\n",
       "  </thead>\n",
       "  <tbody>\n",
       "    <tr>\n",
       "      <th>0</th>\n",
       "      <td>-122.23</td>\n",
       "      <td>37.88</td>\n",
       "      <td>41.0</td>\n",
       "      <td>880.0</td>\n",
       "      <td>129.0</td>\n",
       "      <td>322.0</td>\n",
       "      <td>126.0</td>\n",
       "      <td>8.3252</td>\n",
       "      <td>452600.0</td>\n",
       "      <td>NEAR BAY</td>\n",
       "    </tr>\n",
       "    <tr>\n",
       "      <th>1</th>\n",
       "      <td>-122.22</td>\n",
       "      <td>37.86</td>\n",
       "      <td>21.0</td>\n",
       "      <td>7099.0</td>\n",
       "      <td>1106.0</td>\n",
       "      <td>2401.0</td>\n",
       "      <td>1138.0</td>\n",
       "      <td>8.3014</td>\n",
       "      <td>358500.0</td>\n",
       "      <td>NEAR BAY</td>\n",
       "    </tr>\n",
       "    <tr>\n",
       "      <th>2</th>\n",
       "      <td>-122.24</td>\n",
       "      <td>37.85</td>\n",
       "      <td>52.0</td>\n",
       "      <td>1467.0</td>\n",
       "      <td>190.0</td>\n",
       "      <td>496.0</td>\n",
       "      <td>177.0</td>\n",
       "      <td>7.2574</td>\n",
       "      <td>352100.0</td>\n",
       "      <td>NEAR BAY</td>\n",
       "    </tr>\n",
       "    <tr>\n",
       "      <th>3</th>\n",
       "      <td>-122.25</td>\n",
       "      <td>37.85</td>\n",
       "      <td>52.0</td>\n",
       "      <td>1274.0</td>\n",
       "      <td>235.0</td>\n",
       "      <td>558.0</td>\n",
       "      <td>219.0</td>\n",
       "      <td>5.6431</td>\n",
       "      <td>341300.0</td>\n",
       "      <td>NEAR BAY</td>\n",
       "    </tr>\n",
       "    <tr>\n",
       "      <th>4</th>\n",
       "      <td>-122.25</td>\n",
       "      <td>37.85</td>\n",
       "      <td>52.0</td>\n",
       "      <td>1627.0</td>\n",
       "      <td>280.0</td>\n",
       "      <td>565.0</td>\n",
       "      <td>259.0</td>\n",
       "      <td>3.8462</td>\n",
       "      <td>342200.0</td>\n",
       "      <td>NEAR BAY</td>\n",
       "    </tr>\n",
       "  </tbody>\n",
       "</table>\n",
       "</div>"
      ],
      "text/plain": [
       "   longitude  latitude  housing_median_age  total_rooms  total_bedrooms  \\\n",
       "0    -122.23     37.88                41.0        880.0           129.0   \n",
       "1    -122.22     37.86                21.0       7099.0          1106.0   \n",
       "2    -122.24     37.85                52.0       1467.0           190.0   \n",
       "3    -122.25     37.85                52.0       1274.0           235.0   \n",
       "4    -122.25     37.85                52.0       1627.0           280.0   \n",
       "\n",
       "   population  households  median_income  median_house_value ocean_proximity  \n",
       "0       322.0       126.0         8.3252            452600.0        NEAR BAY  \n",
       "1      2401.0      1138.0         8.3014            358500.0        NEAR BAY  \n",
       "2       496.0       177.0         7.2574            352100.0        NEAR BAY  \n",
       "3       558.0       219.0         5.6431            341300.0        NEAR BAY  \n",
       "4       565.0       259.0         3.8462            342200.0        NEAR BAY  "
      ]
     },
     "execution_count": 2,
     "metadata": {},
     "output_type": "execute_result"
    }
   ],
   "source": [
    "df = pd.read_csv('./housing.csv')\n",
    "\n",
    "df.head()"
   ]
  },
  {
   "cell_type": "code",
   "execution_count": 3,
   "id": "83df82d8",
   "metadata": {},
   "outputs": [],
   "source": [
    "features = [\n",
    "    'latitude',\n",
    "    'longitude',\n",
    "    'housing_median_age',\n",
    "    'total_rooms',\n",
    "    'total_bedrooms',\n",
    "    'population',\n",
    "    'households',\n",
    "    'median_income',\n",
    "    'median_house_value',\n",
    "    'ocean_proximity'\n",
    "]"
   ]
  },
  {
   "cell_type": "code",
   "execution_count": 4,
   "id": "371aae95",
   "metadata": {},
   "outputs": [
    {
     "data": {
      "text/plain": [
       "longitude               0\n",
       "latitude                0\n",
       "housing_median_age      0\n",
       "total_rooms             0\n",
       "total_bedrooms        207\n",
       "population              0\n",
       "households              0\n",
       "median_income           0\n",
       "median_house_value      0\n",
       "ocean_proximity         0\n",
       "dtype: int64"
      ]
     },
     "execution_count": 4,
     "metadata": {},
     "output_type": "execute_result"
    }
   ],
   "source": [
    "df.isnull().sum(axis = 0)"
   ]
  },
  {
   "cell_type": "code",
   "execution_count": 5,
   "id": "4d49c197",
   "metadata": {},
   "outputs": [],
   "source": [
    "df['total_bedrooms'] = df['total_bedrooms'].fillna(0)"
   ]
  },
  {
   "cell_type": "code",
   "execution_count": 6,
   "id": "17937bef",
   "metadata": {},
   "outputs": [
    {
     "data": {
      "text/html": [
       "<div>\n",
       "<style scoped>\n",
       "    .dataframe tbody tr th:only-of-type {\n",
       "        vertical-align: middle;\n",
       "    }\n",
       "\n",
       "    .dataframe tbody tr th {\n",
       "        vertical-align: top;\n",
       "    }\n",
       "\n",
       "    .dataframe thead th {\n",
       "        text-align: right;\n",
       "    }\n",
       "</style>\n",
       "<table border=\"1\" class=\"dataframe\">\n",
       "  <thead>\n",
       "    <tr style=\"text-align: right;\">\n",
       "      <th></th>\n",
       "      <th>longitude</th>\n",
       "      <th>latitude</th>\n",
       "      <th>housing_median_age</th>\n",
       "      <th>total_rooms</th>\n",
       "      <th>total_bedrooms</th>\n",
       "      <th>population</th>\n",
       "      <th>households</th>\n",
       "      <th>median_income</th>\n",
       "      <th>median_house_value</th>\n",
       "      <th>ocean_proximity</th>\n",
       "    </tr>\n",
       "  </thead>\n",
       "  <tbody>\n",
       "    <tr>\n",
       "      <th>0</th>\n",
       "      <td>-122.23</td>\n",
       "      <td>37.88</td>\n",
       "      <td>41.0</td>\n",
       "      <td>880.0</td>\n",
       "      <td>129.0</td>\n",
       "      <td>322.0</td>\n",
       "      <td>126.0</td>\n",
       "      <td>8.3252</td>\n",
       "      <td>13.022766</td>\n",
       "      <td>NEAR BAY</td>\n",
       "    </tr>\n",
       "    <tr>\n",
       "      <th>1</th>\n",
       "      <td>-122.22</td>\n",
       "      <td>37.86</td>\n",
       "      <td>21.0</td>\n",
       "      <td>7099.0</td>\n",
       "      <td>1106.0</td>\n",
       "      <td>2401.0</td>\n",
       "      <td>1138.0</td>\n",
       "      <td>8.3014</td>\n",
       "      <td>12.789687</td>\n",
       "      <td>NEAR BAY</td>\n",
       "    </tr>\n",
       "    <tr>\n",
       "      <th>2</th>\n",
       "      <td>-122.24</td>\n",
       "      <td>37.85</td>\n",
       "      <td>52.0</td>\n",
       "      <td>1467.0</td>\n",
       "      <td>190.0</td>\n",
       "      <td>496.0</td>\n",
       "      <td>177.0</td>\n",
       "      <td>7.2574</td>\n",
       "      <td>12.771673</td>\n",
       "      <td>NEAR BAY</td>\n",
       "    </tr>\n",
       "    <tr>\n",
       "      <th>3</th>\n",
       "      <td>-122.25</td>\n",
       "      <td>37.85</td>\n",
       "      <td>52.0</td>\n",
       "      <td>1274.0</td>\n",
       "      <td>235.0</td>\n",
       "      <td>558.0</td>\n",
       "      <td>219.0</td>\n",
       "      <td>5.6431</td>\n",
       "      <td>12.740520</td>\n",
       "      <td>NEAR BAY</td>\n",
       "    </tr>\n",
       "    <tr>\n",
       "      <th>4</th>\n",
       "      <td>-122.25</td>\n",
       "      <td>37.85</td>\n",
       "      <td>52.0</td>\n",
       "      <td>1627.0</td>\n",
       "      <td>280.0</td>\n",
       "      <td>565.0</td>\n",
       "      <td>259.0</td>\n",
       "      <td>3.8462</td>\n",
       "      <td>12.743154</td>\n",
       "      <td>NEAR BAY</td>\n",
       "    </tr>\n",
       "  </tbody>\n",
       "</table>\n",
       "</div>"
      ],
      "text/plain": [
       "   longitude  latitude  housing_median_age  total_rooms  total_bedrooms  \\\n",
       "0    -122.23     37.88                41.0        880.0           129.0   \n",
       "1    -122.22     37.86                21.0       7099.0          1106.0   \n",
       "2    -122.24     37.85                52.0       1467.0           190.0   \n",
       "3    -122.25     37.85                52.0       1274.0           235.0   \n",
       "4    -122.25     37.85                52.0       1627.0           280.0   \n",
       "\n",
       "   population  households  median_income  median_house_value ocean_proximity  \n",
       "0       322.0       126.0         8.3252           13.022766        NEAR BAY  \n",
       "1      2401.0      1138.0         8.3014           12.789687        NEAR BAY  \n",
       "2       496.0       177.0         7.2574           12.771673        NEAR BAY  \n",
       "3       558.0       219.0         5.6431           12.740520        NEAR BAY  \n",
       "4       565.0       259.0         3.8462           12.743154        NEAR BAY  "
      ]
     },
     "execution_count": 6,
     "metadata": {},
     "output_type": "execute_result"
    }
   ],
   "source": [
    "median_house_val_orig = df['median_house_value']\n",
    "\n",
    "df['median_house_value'] = np.log1p(df['median_house_value'].values)\n",
    "df.head()"
   ]
  },
  {
   "cell_type": "code",
   "execution_count": 7,
   "id": "04374c2a",
   "metadata": {},
   "outputs": [
    {
     "data": {
      "text/plain": [
       "(12384, 4128, 4128)"
      ]
     },
     "execution_count": 7,
     "metadata": {},
     "output_type": "execute_result"
    }
   ],
   "source": [
    "df_full_train, df_test = train_test_split(df, test_size = 0.2, random_state = 1)\n",
    "df_train, df_val = train_test_split(df_full_train, test_size = 0.25, random_state = 1)\n",
    "\n",
    "len(df_train), len(df_val), len(df_test)"
   ]
  },
  {
   "cell_type": "code",
   "execution_count": 8,
   "id": "024f59b2",
   "metadata": {},
   "outputs": [],
   "source": [
    "df_train = df_train.reset_index(drop = True)\n",
    "df_val = df_val.reset_index(drop = True)\n",
    "df_test = df_test.reset_index(drop = True)"
   ]
  },
  {
   "cell_type": "code",
   "execution_count": 9,
   "id": "17202b27",
   "metadata": {},
   "outputs": [],
   "source": [
    "y_train = df_train['median_house_value'].values\n",
    "y_val = df_val['median_house_value'].values\n",
    "y_test = df_test['median_house_value'].values\n",
    "\n",
    "del df_train['median_house_value']\n",
    "del df_val['median_house_value']\n",
    "del df_test['median_house_value']"
   ]
  },
  {
   "cell_type": "code",
   "execution_count": 10,
   "id": "3faad702",
   "metadata": {},
   "outputs": [
    {
     "data": {
      "text/html": [
       "<div>\n",
       "<style scoped>\n",
       "    .dataframe tbody tr th:only-of-type {\n",
       "        vertical-align: middle;\n",
       "    }\n",
       "\n",
       "    .dataframe tbody tr th {\n",
       "        vertical-align: top;\n",
       "    }\n",
       "\n",
       "    .dataframe thead th {\n",
       "        text-align: right;\n",
       "    }\n",
       "</style>\n",
       "<table border=\"1\" class=\"dataframe\">\n",
       "  <thead>\n",
       "    <tr style=\"text-align: right;\">\n",
       "      <th></th>\n",
       "      <th>longitude</th>\n",
       "      <th>latitude</th>\n",
       "      <th>housing_median_age</th>\n",
       "      <th>total_rooms</th>\n",
       "      <th>total_bedrooms</th>\n",
       "      <th>population</th>\n",
       "      <th>households</th>\n",
       "      <th>median_income</th>\n",
       "      <th>ocean_proximity</th>\n",
       "    </tr>\n",
       "  </thead>\n",
       "  <tbody>\n",
       "    <tr>\n",
       "      <th>0</th>\n",
       "      <td>-118.18</td>\n",
       "      <td>34.63</td>\n",
       "      <td>19.0</td>\n",
       "      <td>3562.0</td>\n",
       "      <td>606.0</td>\n",
       "      <td>1677.0</td>\n",
       "      <td>578.0</td>\n",
       "      <td>4.1573</td>\n",
       "      <td>INLAND</td>\n",
       "    </tr>\n",
       "    <tr>\n",
       "      <th>1</th>\n",
       "      <td>-116.90</td>\n",
       "      <td>34.69</td>\n",
       "      <td>10.0</td>\n",
       "      <td>337.0</td>\n",
       "      <td>102.0</td>\n",
       "      <td>108.0</td>\n",
       "      <td>50.0</td>\n",
       "      <td>0.4999</td>\n",
       "      <td>INLAND</td>\n",
       "    </tr>\n",
       "  </tbody>\n",
       "</table>\n",
       "</div>"
      ],
      "text/plain": [
       "   longitude  latitude  housing_median_age  total_rooms  total_bedrooms  \\\n",
       "0    -118.18     34.63                19.0       3562.0           606.0   \n",
       "1    -116.90     34.69                10.0        337.0           102.0   \n",
       "\n",
       "   population  households  median_income ocean_proximity  \n",
       "0      1677.0       578.0         4.1573          INLAND  \n",
       "1       108.0        50.0         0.4999          INLAND  "
      ]
     },
     "execution_count": 10,
     "metadata": {},
     "output_type": "execute_result"
    }
   ],
   "source": [
    "df_train.head(2)"
   ]
  },
  {
   "cell_type": "code",
   "execution_count": 11,
   "id": "e50cc64a",
   "metadata": {},
   "outputs": [],
   "source": [
    "dv = DictVectorizer(sparse = False)\n",
    "\n",
    "train_dict = df_train.to_dict(orient = 'records')\n",
    "X_train = dv.fit_transform(train_dict)\n",
    "\n",
    "val_dict = df_val.to_dict(orient = 'records')\n",
    "X_val = dv.transform(val_dict)"
   ]
  },
  {
   "cell_type": "code",
   "execution_count": 12,
   "id": "2b27e5f2",
   "metadata": {},
   "outputs": [
    {
     "data": {
      "text/plain": [
       "array(['households', 'housing_median_age', 'latitude', 'longitude',\n",
       "       'median_income', 'ocean_proximity=<1H OCEAN',\n",
       "       'ocean_proximity=INLAND', 'ocean_proximity=ISLAND',\n",
       "       'ocean_proximity=NEAR BAY', 'ocean_proximity=NEAR OCEAN',\n",
       "       'population', 'total_bedrooms', 'total_rooms'], dtype=object)"
      ]
     },
     "execution_count": 12,
     "metadata": {},
     "output_type": "execute_result"
    }
   ],
   "source": [
    "feature_names_out = dv.get_feature_names_out()\n",
    "feature_names_out"
   ]
  },
  {
   "cell_type": "markdown",
   "id": "ab10e2e7",
   "metadata": {},
   "source": [
    "## Question 1\n",
    "\n",
    "Let's train a decision tree regressor to predict the `median_house_value` variable. \n",
    "* Train a model with `max_depth=1`.\n",
    "\n",
    "Which feature is used for splitting the data? **ocean_proximity=INLAND**\n",
    "* `ocean_proximity=INLAND`\n",
    "* `total_rooms`\n",
    "* `latitude`\n",
    "* `population`\n"
   ]
  },
  {
   "cell_type": "code",
   "execution_count": 13,
   "id": "148d22e3",
   "metadata": {},
   "outputs": [
    {
     "data": {
      "text/html": [
       "<style>#sk-container-id-1 {color: black;background-color: white;}#sk-container-id-1 pre{padding: 0;}#sk-container-id-1 div.sk-toggleable {background-color: white;}#sk-container-id-1 label.sk-toggleable__label {cursor: pointer;display: block;width: 100%;margin-bottom: 0;padding: 0.3em;box-sizing: border-box;text-align: center;}#sk-container-id-1 label.sk-toggleable__label-arrow:before {content: \"▸\";float: left;margin-right: 0.25em;color: #696969;}#sk-container-id-1 label.sk-toggleable__label-arrow:hover:before {color: black;}#sk-container-id-1 div.sk-estimator:hover label.sk-toggleable__label-arrow:before {color: black;}#sk-container-id-1 div.sk-toggleable__content {max-height: 0;max-width: 0;overflow: hidden;text-align: left;background-color: #f0f8ff;}#sk-container-id-1 div.sk-toggleable__content pre {margin: 0.2em;color: black;border-radius: 0.25em;background-color: #f0f8ff;}#sk-container-id-1 input.sk-toggleable__control:checked~div.sk-toggleable__content {max-height: 200px;max-width: 100%;overflow: auto;}#sk-container-id-1 input.sk-toggleable__control:checked~label.sk-toggleable__label-arrow:before {content: \"▾\";}#sk-container-id-1 div.sk-estimator input.sk-toggleable__control:checked~label.sk-toggleable__label {background-color: #d4ebff;}#sk-container-id-1 div.sk-label input.sk-toggleable__control:checked~label.sk-toggleable__label {background-color: #d4ebff;}#sk-container-id-1 input.sk-hidden--visually {border: 0;clip: rect(1px 1px 1px 1px);clip: rect(1px, 1px, 1px, 1px);height: 1px;margin: -1px;overflow: hidden;padding: 0;position: absolute;width: 1px;}#sk-container-id-1 div.sk-estimator {font-family: monospace;background-color: #f0f8ff;border: 1px dotted black;border-radius: 0.25em;box-sizing: border-box;margin-bottom: 0.5em;}#sk-container-id-1 div.sk-estimator:hover {background-color: #d4ebff;}#sk-container-id-1 div.sk-parallel-item::after {content: \"\";width: 100%;border-bottom: 1px solid gray;flex-grow: 1;}#sk-container-id-1 div.sk-label:hover label.sk-toggleable__label {background-color: #d4ebff;}#sk-container-id-1 div.sk-serial::before {content: \"\";position: absolute;border-left: 1px solid gray;box-sizing: border-box;top: 0;bottom: 0;left: 50%;z-index: 0;}#sk-container-id-1 div.sk-serial {display: flex;flex-direction: column;align-items: center;background-color: white;padding-right: 0.2em;padding-left: 0.2em;position: relative;}#sk-container-id-1 div.sk-item {position: relative;z-index: 1;}#sk-container-id-1 div.sk-parallel {display: flex;align-items: stretch;justify-content: center;background-color: white;position: relative;}#sk-container-id-1 div.sk-item::before, #sk-container-id-1 div.sk-parallel-item::before {content: \"\";position: absolute;border-left: 1px solid gray;box-sizing: border-box;top: 0;bottom: 0;left: 50%;z-index: -1;}#sk-container-id-1 div.sk-parallel-item {display: flex;flex-direction: column;z-index: 1;position: relative;background-color: white;}#sk-container-id-1 div.sk-parallel-item:first-child::after {align-self: flex-end;width: 50%;}#sk-container-id-1 div.sk-parallel-item:last-child::after {align-self: flex-start;width: 50%;}#sk-container-id-1 div.sk-parallel-item:only-child::after {width: 0;}#sk-container-id-1 div.sk-dashed-wrapped {border: 1px dashed gray;margin: 0 0.4em 0.5em 0.4em;box-sizing: border-box;padding-bottom: 0.4em;background-color: white;}#sk-container-id-1 div.sk-label label {font-family: monospace;font-weight: bold;display: inline-block;line-height: 1.2em;}#sk-container-id-1 div.sk-label-container {text-align: center;}#sk-container-id-1 div.sk-container {/* jupyter's `normalize.less` sets `[hidden] { display: none; }` but bootstrap.min.css set `[hidden] { display: none !important; }` so we also need the `!important` here to be able to override the default hidden behavior on the sphinx rendered scikit-learn.org. See: https://github.com/scikit-learn/scikit-learn/issues/21755 */display: inline-block !important;position: relative;}#sk-container-id-1 div.sk-text-repr-fallback {display: none;}</style><div id=\"sk-container-id-1\" class=\"sk-top-container\"><div class=\"sk-text-repr-fallback\"><pre>DecisionTreeRegressor(max_depth=1, random_state=1)</pre><b>In a Jupyter environment, please rerun this cell to show the HTML representation or trust the notebook. <br />On GitHub, the HTML representation is unable to render, please try loading this page with nbviewer.org.</b></div><div class=\"sk-container\" hidden><div class=\"sk-item\"><div class=\"sk-estimator sk-toggleable\"><input class=\"sk-toggleable__control sk-hidden--visually\" id=\"sk-estimator-id-1\" type=\"checkbox\" checked><label for=\"sk-estimator-id-1\" class=\"sk-toggleable__label sk-toggleable__label-arrow\">DecisionTreeRegressor</label><div class=\"sk-toggleable__content\"><pre>DecisionTreeRegressor(max_depth=1, random_state=1)</pre></div></div></div></div></div>"
      ],
      "text/plain": [
       "DecisionTreeRegressor(max_depth=1, random_state=1)"
      ]
     },
     "execution_count": 13,
     "metadata": {},
     "output_type": "execute_result"
    }
   ],
   "source": [
    "dtreg = DecisionTreeRegressor(max_depth = 1, random_state = 1)\n",
    "\n",
    "dtreg.fit(X_train, y_train)"
   ]
  },
  {
   "cell_type": "code",
   "execution_count": 14,
   "id": "333cc578",
   "metadata": {},
   "outputs": [
    {
     "name": "stdout",
     "output_type": "stream",
     "text": [
      "|--- ocean_proximity=INLAND <= 0.50\n",
      "|   |--- value: [12.31]\n",
      "|--- ocean_proximity=INLAND >  0.50\n",
      "|   |--- value: [11.61]\n",
      "\n"
     ]
    },
    {
     "name": "stderr",
     "output_type": "stream",
     "text": [
      "C:\\ProgramData\\Anaconda3\\envs\\ml-zoomcamp\\lib\\site-packages\\sklearn\\utils\\deprecation.py:87: FutureWarning: Function get_feature_names is deprecated; get_feature_names is deprecated in 1.0 and will be removed in 1.2. Please use get_feature_names_out instead.\n",
      "  warnings.warn(msg, category=FutureWarning)\n"
     ]
    }
   ],
   "source": [
    "print(export_text(dtreg, feature_names = dv.get_feature_names()))"
   ]
  },
  {
   "cell_type": "markdown",
   "id": "9542721c",
   "metadata": {},
   "source": [
    "## Question 2\n",
    "\n",
    "Train a random forest model with these parameters:\n",
    "* `n_estimators=10`\n",
    "* `random_state=1`\n",
    "* `n_jobs=-1`  (optional - to make training faster)\n",
    "\n",
    "What's the RMSE of this model on validation? **0.2457**\n",
    "- 0.05\n",
    "- 0.25\n",
    "- 0.55\n",
    "- 0.85\n"
   ]
  },
  {
   "cell_type": "code",
   "execution_count": 15,
   "id": "bc9aa2ae",
   "metadata": {},
   "outputs": [
    {
     "data": {
      "text/html": [
       "<style>#sk-container-id-2 {color: black;background-color: white;}#sk-container-id-2 pre{padding: 0;}#sk-container-id-2 div.sk-toggleable {background-color: white;}#sk-container-id-2 label.sk-toggleable__label {cursor: pointer;display: block;width: 100%;margin-bottom: 0;padding: 0.3em;box-sizing: border-box;text-align: center;}#sk-container-id-2 label.sk-toggleable__label-arrow:before {content: \"▸\";float: left;margin-right: 0.25em;color: #696969;}#sk-container-id-2 label.sk-toggleable__label-arrow:hover:before {color: black;}#sk-container-id-2 div.sk-estimator:hover label.sk-toggleable__label-arrow:before {color: black;}#sk-container-id-2 div.sk-toggleable__content {max-height: 0;max-width: 0;overflow: hidden;text-align: left;background-color: #f0f8ff;}#sk-container-id-2 div.sk-toggleable__content pre {margin: 0.2em;color: black;border-radius: 0.25em;background-color: #f0f8ff;}#sk-container-id-2 input.sk-toggleable__control:checked~div.sk-toggleable__content {max-height: 200px;max-width: 100%;overflow: auto;}#sk-container-id-2 input.sk-toggleable__control:checked~label.sk-toggleable__label-arrow:before {content: \"▾\";}#sk-container-id-2 div.sk-estimator input.sk-toggleable__control:checked~label.sk-toggleable__label {background-color: #d4ebff;}#sk-container-id-2 div.sk-label input.sk-toggleable__control:checked~label.sk-toggleable__label {background-color: #d4ebff;}#sk-container-id-2 input.sk-hidden--visually {border: 0;clip: rect(1px 1px 1px 1px);clip: rect(1px, 1px, 1px, 1px);height: 1px;margin: -1px;overflow: hidden;padding: 0;position: absolute;width: 1px;}#sk-container-id-2 div.sk-estimator {font-family: monospace;background-color: #f0f8ff;border: 1px dotted black;border-radius: 0.25em;box-sizing: border-box;margin-bottom: 0.5em;}#sk-container-id-2 div.sk-estimator:hover {background-color: #d4ebff;}#sk-container-id-2 div.sk-parallel-item::after {content: \"\";width: 100%;border-bottom: 1px solid gray;flex-grow: 1;}#sk-container-id-2 div.sk-label:hover label.sk-toggleable__label {background-color: #d4ebff;}#sk-container-id-2 div.sk-serial::before {content: \"\";position: absolute;border-left: 1px solid gray;box-sizing: border-box;top: 0;bottom: 0;left: 50%;z-index: 0;}#sk-container-id-2 div.sk-serial {display: flex;flex-direction: column;align-items: center;background-color: white;padding-right: 0.2em;padding-left: 0.2em;position: relative;}#sk-container-id-2 div.sk-item {position: relative;z-index: 1;}#sk-container-id-2 div.sk-parallel {display: flex;align-items: stretch;justify-content: center;background-color: white;position: relative;}#sk-container-id-2 div.sk-item::before, #sk-container-id-2 div.sk-parallel-item::before {content: \"\";position: absolute;border-left: 1px solid gray;box-sizing: border-box;top: 0;bottom: 0;left: 50%;z-index: -1;}#sk-container-id-2 div.sk-parallel-item {display: flex;flex-direction: column;z-index: 1;position: relative;background-color: white;}#sk-container-id-2 div.sk-parallel-item:first-child::after {align-self: flex-end;width: 50%;}#sk-container-id-2 div.sk-parallel-item:last-child::after {align-self: flex-start;width: 50%;}#sk-container-id-2 div.sk-parallel-item:only-child::after {width: 0;}#sk-container-id-2 div.sk-dashed-wrapped {border: 1px dashed gray;margin: 0 0.4em 0.5em 0.4em;box-sizing: border-box;padding-bottom: 0.4em;background-color: white;}#sk-container-id-2 div.sk-label label {font-family: monospace;font-weight: bold;display: inline-block;line-height: 1.2em;}#sk-container-id-2 div.sk-label-container {text-align: center;}#sk-container-id-2 div.sk-container {/* jupyter's `normalize.less` sets `[hidden] { display: none; }` but bootstrap.min.css set `[hidden] { display: none !important; }` so we also need the `!important` here to be able to override the default hidden behavior on the sphinx rendered scikit-learn.org. See: https://github.com/scikit-learn/scikit-learn/issues/21755 */display: inline-block !important;position: relative;}#sk-container-id-2 div.sk-text-repr-fallback {display: none;}</style><div id=\"sk-container-id-2\" class=\"sk-top-container\"><div class=\"sk-text-repr-fallback\"><pre>RandomForestRegressor(n_estimators=10, n_jobs=-1, random_state=1)</pre><b>In a Jupyter environment, please rerun this cell to show the HTML representation or trust the notebook. <br />On GitHub, the HTML representation is unable to render, please try loading this page with nbviewer.org.</b></div><div class=\"sk-container\" hidden><div class=\"sk-item\"><div class=\"sk-estimator sk-toggleable\"><input class=\"sk-toggleable__control sk-hidden--visually\" id=\"sk-estimator-id-2\" type=\"checkbox\" checked><label for=\"sk-estimator-id-2\" class=\"sk-toggleable__label sk-toggleable__label-arrow\">RandomForestRegressor</label><div class=\"sk-toggleable__content\"><pre>RandomForestRegressor(n_estimators=10, n_jobs=-1, random_state=1)</pre></div></div></div></div></div>"
      ],
      "text/plain": [
       "RandomForestRegressor(n_estimators=10, n_jobs=-1, random_state=1)"
      ]
     },
     "execution_count": 15,
     "metadata": {},
     "output_type": "execute_result"
    }
   ],
   "source": [
    "rf = RandomForestRegressor(n_estimators = 10, random_state = 1, n_jobs=-1)\n",
    "\n",
    "rf.fit(X_train, y_train)"
   ]
  },
  {
   "cell_type": "code",
   "execution_count": 16,
   "id": "155d2aee",
   "metadata": {},
   "outputs": [],
   "source": [
    "def rmse(y, y_pred):\n",
    "    se = (y - y_pred) ** 2\n",
    "    mse = se.mean()\n",
    "    return np.sqrt(mse)"
   ]
  },
  {
   "cell_type": "code",
   "execution_count": 17,
   "id": "25d71987",
   "metadata": {},
   "outputs": [
    {
     "name": "stdout",
     "output_type": "stream",
     "text": [
      "0.2457383433183843\n"
     ]
    }
   ],
   "source": [
    "y_pred = rf.predict(X_val)\n",
    "\n",
    "print(rmse(y_val, y_pred))"
   ]
  },
  {
   "cell_type": "code",
   "execution_count": 18,
   "id": "cae1e57f",
   "metadata": {},
   "outputs": [
    {
     "name": "stdout",
     "output_type": "stream",
     "text": [
      "0.2457383433183843\n"
     ]
    }
   ],
   "source": [
    "print(mean_squared_error(y_val, y_pred, squared=False))"
   ]
  },
  {
   "cell_type": "markdown",
   "id": "f0f02f03",
   "metadata": {},
   "source": [
    "## Question 3\n",
    "\n",
    "Now let's experiment with the `n_estimators` parameter\n",
    "* Try different values of this parameter from 10 to 200 with step 10.\n",
    "* Set `random_state` to `1`.\n",
    "* Evaluate the model on the validation dataset.\n",
    "\n",
    "After which value of n_estimators does RMSE stop improving? **150**\n",
    "- 10\n",
    "- 50\n",
    "- 70\n",
    "- 150\n"
   ]
  },
  {
   "cell_type": "code",
   "execution_count": 19,
   "id": "579ee79f",
   "metadata": {},
   "outputs": [
    {
     "data": {
      "text/plain": [
       "array([ 10,  20,  30,  40,  50,  60,  70,  80,  90, 100, 110, 120, 130,\n",
       "       140, 150, 160, 170, 180, 190, 200])"
      ]
     },
     "execution_count": 19,
     "metadata": {},
     "output_type": "execute_result"
    }
   ],
   "source": [
    "n_estimators = np.linspace(10, 200, 20, dtype = int)\n",
    "\n",
    "n_estimators"
   ]
  },
  {
   "cell_type": "code",
   "execution_count": 20,
   "id": "654e2312",
   "metadata": {},
   "outputs": [
    {
     "name": "stdout",
     "output_type": "stream",
     "text": [
      "n:  10 , RMSE:  0.2457383433183843\n",
      "n:  20 , RMSE:  0.23926159143162362\n",
      "n:  30 , RMSE:  0.23571658024242995\n",
      "n:  40 , RMSE:  0.2345829928852663\n",
      "n:  50 , RMSE:  0.23310354554874652\n",
      "n:  60 , RMSE:  0.2328429808263216\n",
      "n:  70 , RMSE:  0.23238404627057696\n",
      "n:  80 , RMSE:  0.2325270885881096\n",
      "n:  90 , RMSE:  0.2322152441944244\n",
      "n:  100 , RMSE:  0.2319683398110155\n",
      "n:  110 , RMSE:  0.2315183513876384\n",
      "n:  120 , RMSE:  0.23162059722289452\n",
      "n:  130 , RMSE:  0.23170961618874023\n",
      "n:  140 , RMSE:  0.23169246809784283\n",
      "n:  150 , RMSE:  0.23169445775520764\n",
      "n:  160 , RMSE:  0.23169721161526824\n",
      "n:  170 , RMSE:  0.23162910205851622\n",
      "n:  180 , RMSE:  0.2317902360719715\n",
      "n:  190 , RMSE:  0.2317624141810945\n",
      "n:  200 , RMSE:  0.23165006514034595\n"
     ]
    }
   ],
   "source": [
    "scores = []\n",
    "\n",
    "for n in n_estimators:\n",
    "    \n",
    "    rf_3 = RandomForestRegressor(n_estimators = n, random_state = 1)\n",
    "    rf_3.fit(X_train, y_train)\n",
    "    \n",
    "    y_pred = rf_3.predict(X_val)\n",
    "    score = mean_squared_error(y_val, y_pred, squared = False)\n",
    "    print('n: ', n, ', RMSE: ', score)\n",
    "    \n",
    "    scores.append(score)"
   ]
  },
  {
   "cell_type": "code",
   "execution_count": 21,
   "id": "8eeba36c",
   "metadata": {},
   "outputs": [
    {
     "data": {
      "text/plain": [
       "[<matplotlib.lines.Line2D at 0x27abdd99100>]"
      ]
     },
     "execution_count": 21,
     "metadata": {},
     "output_type": "execute_result"
    },
    {
     "data": {
      "image/png": "[encoded data removed]",
      "text/plain": [
       "<Figure size 640x480 with 1 Axes>"
      ]
     },
     "metadata": {},
     "output_type": "display_data"
    }
   ],
   "source": [
    "plt.plot(n_estimators, scores)"
   ]
  },
  {
   "cell_type": "markdown",
   "id": "05a12f33",
   "metadata": {},
   "source": [
    "## Question 4\n",
    "\n",
    "Let's select the best `max_depth`:\n",
    "\n",
    "* Try different values of `max_depth`: `[10, 15, 20, 25]`\n",
    "* For each of these values, try different values of `n_estimators` from 10 till 200 (with step 10)\n",
    "* Fix the random seed: `random_state=1`\n",
    "\n",
    "\n",
    "What's the best `max_depth`: **25**\n",
    "* 10\n",
    "* 15\n",
    "* 20\n",
    "* 25\n"
   ]
  },
  {
   "cell_type": "code",
   "execution_count": 22,
   "id": "4792d3e1",
   "metadata": {},
   "outputs": [],
   "source": [
    "scores_depth_n = []\n",
    "\n",
    "max_depth = [10, 15, 20, 25]\n",
    "\n",
    "for d in max_depth:\n",
    "    for n in n_estimators:\n",
    "        \n",
    "        rf_4 = RandomForestRegressor(n_estimators = n, max_depth = d, random_state = 1)\n",
    "        rf_4.fit(X_train, y_train)\n",
    "        \n",
    "        y_pred = rf_4.predict(X_val)\n",
    "        \n",
    "        score = mean_squared_error(y_val, y_pred, squared = False)\n",
    "        \n",
    "        #print('d: ', d, ', n: ', n, ', RMSE: ', score)\n",
    "        scores_depth_n.append((d, n, score))\n",
    "        \n",
    "\n",
    "cols = ['depth', 'n_est', 'rmse']\n",
    "df_scores_depth_n = pd.DataFrame(scores_depth_n, columns = cols)"
   ]
  },
  {
   "cell_type": "code",
   "execution_count": 23,
   "id": "4214407e",
   "metadata": {},
   "outputs": [
    {
     "data": {
      "text/html": [
       "<div>\n",
       "<style scoped>\n",
       "    .dataframe tbody tr th:only-of-type {\n",
       "        vertical-align: middle;\n",
       "    }\n",
       "\n",
       "    .dataframe tbody tr th {\n",
       "        vertical-align: top;\n",
       "    }\n",
       "\n",
       "    .dataframe thead th {\n",
       "        text-align: right;\n",
       "    }\n",
       "</style>\n",
       "<table border=\"1\" class=\"dataframe\">\n",
       "  <thead>\n",
       "    <tr style=\"text-align: right;\">\n",
       "      <th></th>\n",
       "      <th>depth</th>\n",
       "      <th>n_est</th>\n",
       "      <th>rmse</th>\n",
       "    </tr>\n",
       "  </thead>\n",
       "  <tbody>\n",
       "    <tr>\n",
       "      <th>70</th>\n",
       "      <td>25</td>\n",
       "      <td>110</td>\n",
       "      <td>0.231255</td>\n",
       "    </tr>\n",
       "    <tr>\n",
       "      <th>71</th>\n",
       "      <td>25</td>\n",
       "      <td>120</td>\n",
       "      <td>0.231297</td>\n",
       "    </tr>\n",
       "    <tr>\n",
       "      <th>76</th>\n",
       "      <td>25</td>\n",
       "      <td>170</td>\n",
       "      <td>0.231440</td>\n",
       "    </tr>\n",
       "    <tr>\n",
       "      <th>73</th>\n",
       "      <td>25</td>\n",
       "      <td>140</td>\n",
       "      <td>0.231458</td>\n",
       "    </tr>\n",
       "    <tr>\n",
       "      <th>75</th>\n",
       "      <td>25</td>\n",
       "      <td>160</td>\n",
       "      <td>0.231484</td>\n",
       "    </tr>\n",
       "  </tbody>\n",
       "</table>\n",
       "</div>"
      ],
      "text/plain": [
       "    depth  n_est      rmse\n",
       "70     25    110  0.231255\n",
       "71     25    120  0.231297\n",
       "76     25    170  0.231440\n",
       "73     25    140  0.231458\n",
       "75     25    160  0.231484"
      ]
     },
     "execution_count": 23,
     "metadata": {},
     "output_type": "execute_result"
    }
   ],
   "source": [
    "df_scores_depth_n.sort_values(by = ['rmse']).head()"
   ]
  },
  {
   "cell_type": "code",
   "execution_count": 24,
   "id": "9fc898a7",
   "metadata": {},
   "outputs": [
    {
     "data": {
      "text/html": [
       "<div>\n",
       "<style scoped>\n",
       "    .dataframe tbody tr th:only-of-type {\n",
       "        vertical-align: middle;\n",
       "    }\n",
       "\n",
       "    .dataframe tbody tr th {\n",
       "        vertical-align: top;\n",
       "    }\n",
       "\n",
       "    .dataframe thead th {\n",
       "        text-align: right;\n",
       "    }\n",
       "</style>\n",
       "<table border=\"1\" class=\"dataframe\">\n",
       "  <thead>\n",
       "    <tr style=\"text-align: right;\">\n",
       "      <th>depth</th>\n",
       "      <th>10</th>\n",
       "      <th>15</th>\n",
       "      <th>20</th>\n",
       "      <th>25</th>\n",
       "    </tr>\n",
       "    <tr>\n",
       "      <th>n_est</th>\n",
       "      <th></th>\n",
       "      <th></th>\n",
       "      <th></th>\n",
       "      <th></th>\n",
       "    </tr>\n",
       "  </thead>\n",
       "  <tbody>\n",
       "    <tr>\n",
       "      <th>10</th>\n",
       "      <td>0.255042</td>\n",
       "      <td>0.244790</td>\n",
       "      <td>0.246327</td>\n",
       "      <td>0.246069</td>\n",
       "    </tr>\n",
       "    <tr>\n",
       "      <th>20</th>\n",
       "      <td>0.252784</td>\n",
       "      <td>0.239306</td>\n",
       "      <td>0.238937</td>\n",
       "      <td>0.238804</td>\n",
       "    </tr>\n",
       "    <tr>\n",
       "      <th>30</th>\n",
       "      <td>0.251647</td>\n",
       "      <td>0.236909</td>\n",
       "      <td>0.235886</td>\n",
       "      <td>0.235454</td>\n",
       "    </tr>\n",
       "    <tr>\n",
       "      <th>40</th>\n",
       "      <td>0.251062</td>\n",
       "      <td>0.235983</td>\n",
       "      <td>0.234844</td>\n",
       "      <td>0.234338</td>\n",
       "    </tr>\n",
       "    <tr>\n",
       "      <th>50</th>\n",
       "      <td>0.250192</td>\n",
       "      <td>0.234730</td>\n",
       "      <td>0.233411</td>\n",
       "      <td>0.232747</td>\n",
       "    </tr>\n",
       "  </tbody>\n",
       "</table>\n",
       "</div>"
      ],
      "text/plain": [
       "depth        10        15        20        25\n",
       "n_est                                        \n",
       "10     0.255042  0.244790  0.246327  0.246069\n",
       "20     0.252784  0.239306  0.238937  0.238804\n",
       "30     0.251647  0.236909  0.235886  0.235454\n",
       "40     0.251062  0.235983  0.234844  0.234338\n",
       "50     0.250192  0.234730  0.233411  0.232747"
      ]
     },
     "execution_count": 24,
     "metadata": {},
     "output_type": "execute_result"
    }
   ],
   "source": [
    "df_scores_pivot = df_scores_depth_n.pivot(index = 'n_est', columns = 'depth', values = 'rmse')\n",
    "df_scores_pivot.head()"
   ]
  },
  {
   "cell_type": "code",
   "execution_count": 25,
   "id": "ede0509c",
   "metadata": {},
   "outputs": [
    {
     "data": {
      "text/plain": [
       "<AxesSubplot:xlabel='depth', ylabel='n_est'>"
      ]
     },
     "execution_count": 25,
     "metadata": {},
     "output_type": "execute_result"
    },
    {
     "data": {
      "image/png": "[encoded data removed]",
      "text/plain": [
       "<Figure size 640x480 with 2 Axes>"
      ]
     },
     "metadata": {},
     "output_type": "display_data"
    }
   ],
   "source": [
    "sns.heatmap(df_scores_pivot, annot = True, fmt = \".4f\", cmap = \"YlGnBu\")"
   ]
  },
  {
   "cell_type": "markdown",
   "id": "09fcfc8b",
   "metadata": {},
   "source": [
    "## Question 5\n",
    "\n",
    "We can extract feature importance information from tree-based models. \n",
    "\n",
    "At each step of the decision tree learning algorith, it finds the best split. \n",
    "When doint it, we can calculate \"gain\" - the reduction in impurity before and after the split. \n",
    "This gain is quite useful in understanding what are the imporatant features \n",
    "for tree-based models.\n",
    "\n",
    "In Scikit-Learn, tree-based models contain this information in the\n",
    "[`feature_importances_`](https://scikit-learn.org/stable/modules/generated/sklearn.ensemble.RandomForestRegressor.html#sklearn.ensemble.RandomForestRegressor.feature_importances_)\n",
    "field. \n",
    "\n",
    "For this homework question, we'll find the most important feature:\n",
    "\n",
    "* Train the model with these parametes:\n",
    "    * `n_estimators=10`,\n",
    "    * `max_depth=20`,\n",
    "    * `random_state=1`,\n",
    "    * `n_jobs=-1` (optional)\n",
    "* Get the feature importance information from this model\n",
    "\n",
    "What's the most important feature? **median_income**\n",
    "* `total_rooms`\n",
    "* `median_income`\t\n",
    "* `total_bedrooms`\n",
    "* `longitude`\n"
   ]
  },
  {
   "cell_type": "code",
   "execution_count": 26,
   "id": "cab3e2ce",
   "metadata": {},
   "outputs": [
    {
     "data": {
      "text/html": [
       "<style>#sk-container-id-3 {color: black;background-color: white;}#sk-container-id-3 pre{padding: 0;}#sk-container-id-3 div.sk-toggleable {background-color: white;}#sk-container-id-3 label.sk-toggleable__label {cursor: pointer;display: block;width: 100%;margin-bottom: 0;padding: 0.3em;box-sizing: border-box;text-align: center;}#sk-container-id-3 label.sk-toggleable__label-arrow:before {content: \"▸\";float: left;margin-right: 0.25em;color: #696969;}#sk-container-id-3 label.sk-toggleable__label-arrow:hover:before {color: black;}#sk-container-id-3 div.sk-estimator:hover label.sk-toggleable__label-arrow:before {color: black;}#sk-container-id-3 div.sk-toggleable__content {max-height: 0;max-width: 0;overflow: hidden;text-align: left;background-color: #f0f8ff;}#sk-container-id-3 div.sk-toggleable__content pre {margin: 0.2em;color: black;border-radius: 0.25em;background-color: #f0f8ff;}#sk-container-id-3 input.sk-toggleable__control:checked~div.sk-toggleable__content {max-height: 200px;max-width: 100%;overflow: auto;}#sk-container-id-3 input.sk-toggleable__control:checked~label.sk-toggleable__label-arrow:before {content: \"▾\";}#sk-container-id-3 div.sk-estimator input.sk-toggleable__control:checked~label.sk-toggleable__label {background-color: #d4ebff;}#sk-container-id-3 div.sk-label input.sk-toggleable__control:checked~label.sk-toggleable__label {background-color: #d4ebff;}#sk-container-id-3 input.sk-hidden--visually {border: 0;clip: rect(1px 1px 1px 1px);clip: rect(1px, 1px, 1px, 1px);height: 1px;margin: -1px;overflow: hidden;padding: 0;position: absolute;width: 1px;}#sk-container-id-3 div.sk-estimator {font-family: monospace;background-color: #f0f8ff;border: 1px dotted black;border-radius: 0.25em;box-sizing: border-box;margin-bottom: 0.5em;}#sk-container-id-3 div.sk-estimator:hover {background-color: #d4ebff;}#sk-container-id-3 div.sk-parallel-item::after {content: \"\";width: 100%;border-bottom: 1px solid gray;flex-grow: 1;}#sk-container-id-3 div.sk-label:hover label.sk-toggleable__label {background-color: #d4ebff;}#sk-container-id-3 div.sk-serial::before {content: \"\";position: absolute;border-left: 1px solid gray;box-sizing: border-box;top: 0;bottom: 0;left: 50%;z-index: 0;}#sk-container-id-3 div.sk-serial {display: flex;flex-direction: column;align-items: center;background-color: white;padding-right: 0.2em;padding-left: 0.2em;position: relative;}#sk-container-id-3 div.sk-item {position: relative;z-index: 1;}#sk-container-id-3 div.sk-parallel {display: flex;align-items: stretch;justify-content: center;background-color: white;position: relative;}#sk-container-id-3 div.sk-item::before, #sk-container-id-3 div.sk-parallel-item::before {content: \"\";position: absolute;border-left: 1px solid gray;box-sizing: border-box;top: 0;bottom: 0;left: 50%;z-index: -1;}#sk-container-id-3 div.sk-parallel-item {display: flex;flex-direction: column;z-index: 1;position: relative;background-color: white;}#sk-container-id-3 div.sk-parallel-item:first-child::after {align-self: flex-end;width: 50%;}#sk-container-id-3 div.sk-parallel-item:last-child::after {align-self: flex-start;width: 50%;}#sk-container-id-3 div.sk-parallel-item:only-child::after {width: 0;}#sk-container-id-3 div.sk-dashed-wrapped {border: 1px dashed gray;margin: 0 0.4em 0.5em 0.4em;box-sizing: border-box;padding-bottom: 0.4em;background-color: white;}#sk-container-id-3 div.sk-label label {font-family: monospace;font-weight: bold;display: inline-block;line-height: 1.2em;}#sk-container-id-3 div.sk-label-container {text-align: center;}#sk-container-id-3 div.sk-container {/* jupyter's `normalize.less` sets `[hidden] { display: none; }` but bootstrap.min.css set `[hidden] { display: none !important; }` so we also need the `!important` here to be able to override the default hidden behavior on the sphinx rendered scikit-learn.org. See: https://github.com/scikit-learn/scikit-learn/issues/21755 */display: inline-block !important;position: relative;}#sk-container-id-3 div.sk-text-repr-fallback {display: none;}</style><div id=\"sk-container-id-3\" class=\"sk-top-container\"><div class=\"sk-text-repr-fallback\"><pre>RandomForestRegressor(max_depth=20, n_estimators=10, n_jobs=-1, random_state=1)</pre><b>In a Jupyter environment, please rerun this cell to show the HTML representation or trust the notebook. <br />On GitHub, the HTML representation is unable to render, please try loading this page with nbviewer.org.</b></div><div class=\"sk-container\" hidden><div class=\"sk-item\"><div class=\"sk-estimator sk-toggleable\"><input class=\"sk-toggleable__control sk-hidden--visually\" id=\"sk-estimator-id-3\" type=\"checkbox\" checked><label for=\"sk-estimator-id-3\" class=\"sk-toggleable__label sk-toggleable__label-arrow\">RandomForestRegressor</label><div class=\"sk-toggleable__content\"><pre>RandomForestRegressor(max_depth=20, n_estimators=10, n_jobs=-1, random_state=1)</pre></div></div></div></div></div>"
      ],
      "text/plain": [
       "RandomForestRegressor(max_depth=20, n_estimators=10, n_jobs=-1, random_state=1)"
      ]
     },
     "execution_count": 26,
     "metadata": {},
     "output_type": "execute_result"
    }
   ],
   "source": [
    "rf_5 = RandomForestRegressor(n_estimators = 10, max_depth = 20, random_state = 1, n_jobs=-1)\n",
    "rf_5.fit(X_train, y_train)"
   ]
  },
  {
   "cell_type": "code",
   "execution_count": 27,
   "id": "af278eb4",
   "metadata": {},
   "outputs": [
    {
     "data": {
      "text/plain": [
       "{'ocean_proximity=ISLAND': 0.000356806262947593,\n",
       " 'ocean_proximity=NEAR BAY': 0.00044866197239988755,\n",
       " 'ocean_proximity=<1H OCEAN': 0.003007237495106814,\n",
       " 'ocean_proximity=NEAR OCEAN': 0.004227624463177561,\n",
       " 'households': 0.01695731830740333,\n",
       " 'total_bedrooms': 0.019041256180901026,\n",
       " 'total_rooms': 0.020536468711052403,\n",
       " 'population': 0.030918019662506523,\n",
       " 'housing_median_age': 0.03309389968532549,\n",
       " 'longitude': 0.09626498762322835,\n",
       " 'latitude': 0.10133397120516323,\n",
       " 'ocean_proximity=INLAND': 0.31090084170805665,\n",
       " 'median_income': 0.3629129067227312}"
      ]
     },
     "execution_count": 27,
     "metadata": {},
     "output_type": "execute_result"
    }
   ],
   "source": [
    "importances = rf_5.feature_importances_\n",
    "\n",
    "f_importances = dict(zip(feature_names_out, importances))\n",
    "dict(sorted(f_importances.items(), key = lambda item: item[1]))"
   ]
  },
  {
   "cell_type": "markdown",
   "id": "883eb007",
   "metadata": {},
   "source": [
    "## Question 6\n",
    "\n",
    "Now let's train an XGBoost model! For this question, we'll tune the `eta` parameter:\n",
    "* Install XGBoost\n",
    "* Create DMatrix for train and validation\n",
    "* Create a watchlist\n",
    "* Train a model with these parameters for 100 rounds:\n",
    "\n",
    "```\n",
    "xgb_params = {\n",
    "    'eta': 0.3, \n",
    "    'max_depth': 6,\n",
    "    'min_child_weight': 1,\n",
    "    'objective': 'reg:squarederror',\n",
    "    'nthread': 8,\n",
    "    'seed': 1,\n",
    "    'verbosity': 1,}\n",
    "```\n",
    "\n",
    "Now change `eta` from `0.3` to `0.1`.\n",
    "\n",
    "Which eta leads to the best RMSE score on the validation dataset? **0.3**\n",
    "* 0.3\n",
    "* 0.1\n",
    "* Both gives same\n"
   ]
  },
  {
   "cell_type": "code",
   "execution_count": 28,
   "id": "a8bb77a4",
   "metadata": {},
   "outputs": [
    {
     "name": "stderr",
     "output_type": "stream",
     "text": [
      "C:\\ProgramData\\Anaconda3\\envs\\ml-zoomcamp\\lib\\site-packages\\sklearn\\utils\\deprecation.py:87: FutureWarning: Function get_feature_names is deprecated; get_feature_names is deprecated in 1.0 and will be removed in 1.2. Please use get_feature_names_out instead.\n",
      "  warnings.warn(msg, category=FutureWarning)\n"
     ]
    },
    {
     "data": {
      "text/plain": [
       "['households',\n",
       " 'housing_median_age',\n",
       " 'latitude',\n",
       " 'longitude',\n",
       " 'median_income',\n",
       " 'ocean_proximity_1H OCEAN',\n",
       " 'ocean_proximity_INLAND',\n",
       " 'ocean_proximity_ISLAND',\n",
       " 'ocean_proximity_NEAR BAY',\n",
       " 'ocean_proximity_NEAR OCEAN',\n",
       " 'population',\n",
       " 'total_bedrooms',\n",
       " 'total_rooms']"
      ]
     },
     "execution_count": 28,
     "metadata": {},
     "output_type": "execute_result"
    }
   ],
   "source": [
    "features = dv.get_feature_names()\n",
    "features = [i.replace(\"=<\", \"_\").replace(\"=\",\"_\") for i in features]\n",
    "features"
   ]
  },
  {
   "cell_type": "code",
   "execution_count": 29,
   "id": "1f90679c",
   "metadata": {},
   "outputs": [],
   "source": [
    "dtrain = xgb.DMatrix(X_train, label = y_train, feature_names = features)\n",
    "dval = xgb.DMatrix(X_val, label = y_val, feature_names = features)"
   ]
  },
  {
   "cell_type": "code",
   "execution_count": 30,
   "id": "50b077cf",
   "metadata": {},
   "outputs": [],
   "source": [
    "xgb_params = {\n",
    "    'eta': 0.3, \n",
    "    'max_depth': 6,\n",
    "    'min_child_weight': 1,\n",
    "    'objective': 'reg:squarederror',\n",
    "    'nthread': 8,\n",
    "    'seed': 1,\n",
    "    'verbosity': 1,}"
   ]
  },
  {
   "cell_type": "code",
   "execution_count": 31,
   "id": "e1a2b9aa",
   "metadata": {},
   "outputs": [],
   "source": [
    "watchlist = [(dtrain, 'train'), (dval, 'val')]"
   ]
  },
  {
   "cell_type": "code",
   "execution_count": 32,
   "id": "31b848a3",
   "metadata": {},
   "outputs": [
    {
     "name": "stdout",
     "output_type": "stream",
     "text": [
      "[0]\ttrain-rmse:8.12733\tval-rmse:8.13245\n",
      "[1]\ttrain-rmse:5.69586\tval-rmse:5.70070\n",
      "[2]\ttrain-rmse:3.99539\tval-rmse:4.00041\n",
      "[3]\ttrain-rmse:2.80712\tval-rmse:2.81079\n",
      "[4]\ttrain-rmse:1.97833\tval-rmse:1.98175\n",
      "[5]\ttrain-rmse:1.40218\tval-rmse:1.40741\n",
      "[6]\ttrain-rmse:1.00099\tval-rmse:1.00700\n",
      "[7]\ttrain-rmse:0.72751\tval-rmse:0.73439\n",
      "[8]\ttrain-rmse:0.54190\tval-rmse:0.55047\n",
      "[9]\ttrain-rmse:0.42167\tval-rmse:0.43234\n",
      "[10]\ttrain-rmse:0.34481\tval-rmse:0.35782\n",
      "[11]\ttrain-rmse:0.29835\tval-rmse:0.31360\n",
      "[12]\ttrain-rmse:0.27095\tval-rmse:0.28864\n",
      "[13]\ttrain-rmse:0.25268\tval-rmse:0.27335\n",
      "[14]\ttrain-rmse:0.24295\tval-rmse:0.26605\n",
      "[15]\ttrain-rmse:0.23555\tval-rmse:0.26044\n",
      "[16]\ttrain-rmse:0.22630\tval-rmse:0.25229\n",
      "[17]\ttrain-rmse:0.22232\tval-rmse:0.24902\n",
      "[18]\ttrain-rmse:0.22029\tval-rmse:0.24826\n",
      "[19]\ttrain-rmse:0.21791\tval-rmse:0.24696\n",
      "[20]\ttrain-rmse:0.21580\tval-rmse:0.24624\n",
      "[21]\ttrain-rmse:0.21160\tval-rmse:0.24334\n",
      "[22]\ttrain-rmse:0.20975\tval-rmse:0.24245\n",
      "[23]\ttrain-rmse:0.20904\tval-rmse:0.24269\n",
      "[24]\ttrain-rmse:0.20703\tval-rmse:0.24252\n",
      "[25]\ttrain-rmse:0.20395\tval-rmse:0.24099\n",
      "[26]\ttrain-rmse:0.20188\tval-rmse:0.24019\n",
      "[27]\ttrain-rmse:0.20122\tval-rmse:0.24010\n",
      "[28]\ttrain-rmse:0.19810\tval-rmse:0.23843\n",
      "[29]\ttrain-rmse:0.19540\tval-rmse:0.23766\n",
      "[30]\ttrain-rmse:0.19440\tval-rmse:0.23741\n",
      "[31]\ttrain-rmse:0.19285\tval-rmse:0.23709\n",
      "[32]\ttrain-rmse:0.19126\tval-rmse:0.23686\n",
      "[33]\ttrain-rmse:0.18939\tval-rmse:0.23653\n",
      "[34]\ttrain-rmse:0.18742\tval-rmse:0.23605\n",
      "[35]\ttrain-rmse:0.18637\tval-rmse:0.23562\n",
      "[36]\ttrain-rmse:0.18486\tval-rmse:0.23539\n",
      "[37]\ttrain-rmse:0.18363\tval-rmse:0.23506\n",
      "[38]\ttrain-rmse:0.18274\tval-rmse:0.23495\n",
      "[39]\ttrain-rmse:0.18024\tval-rmse:0.23425\n",
      "[40]\ttrain-rmse:0.17983\tval-rmse:0.23419\n",
      "[41]\ttrain-rmse:0.17878\tval-rmse:0.23400\n",
      "[42]\ttrain-rmse:0.17782\tval-rmse:0.23384\n",
      "[43]\ttrain-rmse:0.17662\tval-rmse:0.23343\n",
      "[44]\ttrain-rmse:0.17568\tval-rmse:0.23317\n",
      "[45]\ttrain-rmse:0.17468\tval-rmse:0.23279\n",
      "[46]\ttrain-rmse:0.17304\tval-rmse:0.23205\n",
      "[47]\ttrain-rmse:0.17244\tval-rmse:0.23171\n",
      "[48]\ttrain-rmse:0.17139\tval-rmse:0.23142\n",
      "[49]\ttrain-rmse:0.17011\tval-rmse:0.23124\n",
      "[50]\ttrain-rmse:0.16934\tval-rmse:0.23097\n",
      "[51]\ttrain-rmse:0.16838\tval-rmse:0.23106\n",
      "[52]\ttrain-rmse:0.16788\tval-rmse:0.23074\n",
      "[53]\ttrain-rmse:0.16712\tval-rmse:0.23072\n",
      "[54]\ttrain-rmse:0.16616\tval-rmse:0.23030\n",
      "[55]\ttrain-rmse:0.16546\tval-rmse:0.23039\n",
      "[56]\ttrain-rmse:0.16433\tval-rmse:0.23006\n",
      "[57]\ttrain-rmse:0.16357\tval-rmse:0.23002\n",
      "[58]\ttrain-rmse:0.16309\tval-rmse:0.22987\n",
      "[59]\ttrain-rmse:0.16269\tval-rmse:0.22980\n",
      "[60]\ttrain-rmse:0.16177\tval-rmse:0.22950\n",
      "[61]\ttrain-rmse:0.16158\tval-rmse:0.22952\n",
      "[62]\ttrain-rmse:0.16081\tval-rmse:0.22929\n",
      "[63]\ttrain-rmse:0.15998\tval-rmse:0.22882\n",
      "[64]\ttrain-rmse:0.15854\tval-rmse:0.22878\n",
      "[65]\ttrain-rmse:0.15762\tval-rmse:0.22857\n",
      "[66]\ttrain-rmse:0.15666\tval-rmse:0.22862\n",
      "[67]\ttrain-rmse:0.15518\tval-rmse:0.22827\n",
      "[68]\ttrain-rmse:0.15446\tval-rmse:0.22825\n",
      "[69]\ttrain-rmse:0.15349\tval-rmse:0.22788\n",
      "[70]\ttrain-rmse:0.15323\tval-rmse:0.22787\n",
      "[71]\ttrain-rmse:0.15233\tval-rmse:0.22774\n",
      "[72]\ttrain-rmse:0.15212\tval-rmse:0.22773\n",
      "[73]\ttrain-rmse:0.15129\tval-rmse:0.22782\n",
      "[74]\ttrain-rmse:0.15075\tval-rmse:0.22771\n",
      "[75]\ttrain-rmse:0.15010\tval-rmse:0.22755\n",
      "[76]\ttrain-rmse:0.14872\tval-rmse:0.22705\n",
      "[77]\ttrain-rmse:0.14798\tval-rmse:0.22676\n",
      "[78]\ttrain-rmse:0.14728\tval-rmse:0.22669\n",
      "[79]\ttrain-rmse:0.14632\tval-rmse:0.22634\n",
      "[80]\ttrain-rmse:0.14564\tval-rmse:0.22611\n",
      "[81]\ttrain-rmse:0.14461\tval-rmse:0.22601\n",
      "[82]\ttrain-rmse:0.14386\tval-rmse:0.22595\n",
      "[83]\ttrain-rmse:0.14298\tval-rmse:0.22589\n",
      "[84]\ttrain-rmse:0.14244\tval-rmse:0.22598\n",
      "[85]\ttrain-rmse:0.14166\tval-rmse:0.22579\n",
      "[86]\ttrain-rmse:0.14128\tval-rmse:0.22582\n",
      "[87]\ttrain-rmse:0.14041\tval-rmse:0.22647\n",
      "[88]\ttrain-rmse:0.13997\tval-rmse:0.22641\n",
      "[89]\ttrain-rmse:0.13952\tval-rmse:0.22647\n",
      "[90]\ttrain-rmse:0.13892\tval-rmse:0.22628\n",
      "[91]\ttrain-rmse:0.13847\tval-rmse:0.22610\n",
      "[92]\ttrain-rmse:0.13794\tval-rmse:0.22619\n",
      "[93]\ttrain-rmse:0.13696\tval-rmse:0.22648\n",
      "[94]\ttrain-rmse:0.13626\tval-rmse:0.22643\n",
      "[95]\ttrain-rmse:0.13553\tval-rmse:0.22630\n",
      "[96]\ttrain-rmse:0.13458\tval-rmse:0.22620\n",
      "[97]\ttrain-rmse:0.13372\tval-rmse:0.22608\n",
      "[98]\ttrain-rmse:0.13344\tval-rmse:0.22611\n",
      "[99]\ttrain-rmse:0.13299\tval-rmse:0.22610\n"
     ]
    }
   ],
   "source": [
    "xgb_model = xgb.train(xgb_params, dtrain, num_boost_round = 100, evals = watchlist)"
   ]
  },
  {
   "cell_type": "code",
   "execution_count": 33,
   "id": "6d00ae95",
   "metadata": {},
   "outputs": [
    {
     "name": "stdout",
     "output_type": "stream",
     "text": [
      "0.2260957847928297\n"
     ]
    }
   ],
   "source": [
    "y_pred = xgb_model.predict(dval)\n",
    "\n",
    "print(mean_squared_error(y_val, y_pred, squared = False))"
   ]
  },
  {
   "cell_type": "code",
   "execution_count": 34,
   "id": "836fe04e",
   "metadata": {},
   "outputs": [],
   "source": [
    "xgb_params_2 = {\n",
    "    'eta': 0.1, \n",
    "    'max_depth': 6,\n",
    "    'min_child_weight': 1,\n",
    "    'objective': 'reg:squarederror',\n",
    "    'nthread': 8,\n",
    "    'seed': 1,\n",
    "    'verbosity': 1,}"
   ]
  },
  {
   "cell_type": "code",
   "execution_count": 35,
   "id": "a0d6f752",
   "metadata": {},
   "outputs": [
    {
     "name": "stdout",
     "output_type": "stream",
     "text": [
      "[0]\ttrain-rmse:10.44371\tval-rmse:10.44938\n",
      "[1]\ttrain-rmse:9.40118\tval-rmse:9.40684\n",
      "[2]\ttrain-rmse:8.46290\tval-rmse:8.46831\n",
      "[3]\ttrain-rmse:7.61859\tval-rmse:7.62391\n",
      "[4]\ttrain-rmse:6.85878\tval-rmse:6.86368\n",
      "[5]\ttrain-rmse:6.17513\tval-rmse:6.17987\n",
      "[6]\ttrain-rmse:5.55994\tval-rmse:5.56437\n",
      "[7]\ttrain-rmse:5.00643\tval-rmse:5.01061\n",
      "[8]\ttrain-rmse:4.50845\tval-rmse:4.51264\n",
      "[9]\ttrain-rmse:4.06043\tval-rmse:4.06461\n",
      "[10]\ttrain-rmse:3.65741\tval-rmse:3.66135\n",
      "[11]\ttrain-rmse:3.29492\tval-rmse:3.29877\n",
      "[12]\ttrain-rmse:2.96894\tval-rmse:2.97284\n",
      "[13]\ttrain-rmse:2.67573\tval-rmse:2.67979\n",
      "[14]\ttrain-rmse:2.41195\tval-rmse:2.41587\n",
      "[15]\ttrain-rmse:2.17500\tval-rmse:2.17928\n",
      "[16]\ttrain-rmse:1.96213\tval-rmse:1.96662\n",
      "[17]\ttrain-rmse:1.77065\tval-rmse:1.77536\n",
      "[18]\ttrain-rmse:1.59880\tval-rmse:1.60396\n",
      "[19]\ttrain-rmse:1.44376\tval-rmse:1.44910\n",
      "[20]\ttrain-rmse:1.30499\tval-rmse:1.31054\n",
      "[21]\ttrain-rmse:1.18080\tval-rmse:1.18646\n",
      "[22]\ttrain-rmse:1.06879\tval-rmse:1.07469\n",
      "[23]\ttrain-rmse:0.96912\tval-rmse:0.97546\n",
      "[24]\ttrain-rmse:0.87914\tval-rmse:0.88576\n",
      "[25]\ttrain-rmse:0.79933\tval-rmse:0.80657\n",
      "[26]\ttrain-rmse:0.72790\tval-rmse:0.73566\n",
      "[27]\ttrain-rmse:0.66451\tval-rmse:0.67282\n",
      "[28]\ttrain-rmse:0.60723\tval-rmse:0.61618\n",
      "[29]\ttrain-rmse:0.55636\tval-rmse:0.56601\n",
      "[30]\ttrain-rmse:0.51144\tval-rmse:0.52189\n",
      "[31]\ttrain-rmse:0.47189\tval-rmse:0.48338\n",
      "[32]\ttrain-rmse:0.43732\tval-rmse:0.44960\n",
      "[33]\ttrain-rmse:0.40669\tval-rmse:0.41992\n",
      "[34]\ttrain-rmse:0.38017\tval-rmse:0.39439\n",
      "[35]\ttrain-rmse:0.35700\tval-rmse:0.37263\n",
      "[36]\ttrain-rmse:0.33733\tval-rmse:0.35398\n",
      "[37]\ttrain-rmse:0.31985\tval-rmse:0.33777\n",
      "[38]\ttrain-rmse:0.30449\tval-rmse:0.32340\n",
      "[39]\ttrain-rmse:0.29115\tval-rmse:0.31104\n",
      "[40]\ttrain-rmse:0.27985\tval-rmse:0.30053\n",
      "[41]\ttrain-rmse:0.27067\tval-rmse:0.29195\n",
      "[42]\ttrain-rmse:0.26257\tval-rmse:0.28468\n",
      "[43]\ttrain-rmse:0.25532\tval-rmse:0.27832\n",
      "[44]\ttrain-rmse:0.24897\tval-rmse:0.27269\n",
      "[45]\ttrain-rmse:0.24350\tval-rmse:0.26829\n",
      "[46]\ttrain-rmse:0.23912\tval-rmse:0.26437\n",
      "[47]\ttrain-rmse:0.23532\tval-rmse:0.26092\n",
      "[48]\ttrain-rmse:0.23170\tval-rmse:0.25803\n",
      "[49]\ttrain-rmse:0.22852\tval-rmse:0.25521\n",
      "[50]\ttrain-rmse:0.22614\tval-rmse:0.25334\n",
      "[51]\ttrain-rmse:0.22366\tval-rmse:0.25115\n",
      "[52]\ttrain-rmse:0.22167\tval-rmse:0.24976\n",
      "[53]\ttrain-rmse:0.22027\tval-rmse:0.24876\n",
      "[54]\ttrain-rmse:0.21843\tval-rmse:0.24751\n",
      "[55]\ttrain-rmse:0.21695\tval-rmse:0.24657\n",
      "[56]\ttrain-rmse:0.21568\tval-rmse:0.24560\n",
      "[57]\ttrain-rmse:0.21454\tval-rmse:0.24480\n",
      "[58]\ttrain-rmse:0.21336\tval-rmse:0.24411\n",
      "[59]\ttrain-rmse:0.21237\tval-rmse:0.24341\n",
      "[60]\ttrain-rmse:0.21035\tval-rmse:0.24189\n",
      "[61]\ttrain-rmse:0.20927\tval-rmse:0.24115\n",
      "[62]\ttrain-rmse:0.20870\tval-rmse:0.24089\n",
      "[63]\ttrain-rmse:0.20760\tval-rmse:0.24046\n",
      "[64]\ttrain-rmse:0.20723\tval-rmse:0.24036\n",
      "[65]\ttrain-rmse:0.20579\tval-rmse:0.23943\n",
      "[66]\ttrain-rmse:0.20510\tval-rmse:0.23908\n",
      "[67]\ttrain-rmse:0.20389\tval-rmse:0.23836\n",
      "[68]\ttrain-rmse:0.20303\tval-rmse:0.23798\n",
      "[69]\ttrain-rmse:0.20189\tval-rmse:0.23725\n",
      "[70]\ttrain-rmse:0.20116\tval-rmse:0.23684\n",
      "[71]\ttrain-rmse:0.20053\tval-rmse:0.23649\n",
      "[72]\ttrain-rmse:0.19928\tval-rmse:0.23587\n",
      "[73]\ttrain-rmse:0.19856\tval-rmse:0.23550\n",
      "[74]\ttrain-rmse:0.19760\tval-rmse:0.23523\n",
      "[75]\ttrain-rmse:0.19680\tval-rmse:0.23507\n",
      "[76]\ttrain-rmse:0.19636\tval-rmse:0.23491\n",
      "[77]\ttrain-rmse:0.19561\tval-rmse:0.23446\n",
      "[78]\ttrain-rmse:0.19482\tval-rmse:0.23428\n",
      "[79]\ttrain-rmse:0.19437\tval-rmse:0.23423\n",
      "[80]\ttrain-rmse:0.19384\tval-rmse:0.23398\n",
      "[81]\ttrain-rmse:0.19334\tval-rmse:0.23392\n",
      "[82]\ttrain-rmse:0.19266\tval-rmse:0.23364\n",
      "[83]\ttrain-rmse:0.19212\tval-rmse:0.23330\n",
      "[84]\ttrain-rmse:0.19129\tval-rmse:0.23289\n",
      "[85]\ttrain-rmse:0.19085\tval-rmse:0.23275\n",
      "[86]\ttrain-rmse:0.19008\tval-rmse:0.23266\n",
      "[87]\ttrain-rmse:0.18941\tval-rmse:0.23230\n",
      "[88]\ttrain-rmse:0.18903\tval-rmse:0.23228\n",
      "[89]\ttrain-rmse:0.18855\tval-rmse:0.23220\n",
      "[90]\ttrain-rmse:0.18794\tval-rmse:0.23206\n",
      "[91]\ttrain-rmse:0.18728\tval-rmse:0.23167\n",
      "[92]\ttrain-rmse:0.18691\tval-rmse:0.23162\n",
      "[93]\ttrain-rmse:0.18620\tval-rmse:0.23117\n",
      "[94]\ttrain-rmse:0.18586\tval-rmse:0.23104\n",
      "[95]\ttrain-rmse:0.18541\tval-rmse:0.23106\n",
      "[96]\ttrain-rmse:0.18470\tval-rmse:0.23089\n",
      "[97]\ttrain-rmse:0.18405\tval-rmse:0.23067\n",
      "[98]\ttrain-rmse:0.18385\tval-rmse:0.23057\n",
      "[99]\ttrain-rmse:0.18329\tval-rmse:0.23054\n"
     ]
    }
   ],
   "source": [
    "xgb_model_2 = xgb.train(xgb_params_2, dtrain, num_boost_round = 100, evals = watchlist)"
   ]
  },
  {
   "cell_type": "code",
   "execution_count": 36,
   "id": "58d3d001",
   "metadata": {},
   "outputs": [
    {
     "name": "stdout",
     "output_type": "stream",
     "text": [
      "0.2305416021993131\n"
     ]
    }
   ],
   "source": [
    "y_pred = xgb_model_2.predict(dval)\n",
    "\n",
    "print(mean_squared_error(y_val, y_pred, squared = False))"
   ]
  },
  {
   "cell_type": "code",
   "execution_count": null,
   "id": "5af24640",
   "metadata": {},
   "outputs": [],
   "source": []
  }
 ],
 "metadata": {
  "kernelspec": {
   "display_name": "Python 3 (ipykernel)",
   "language": "python",
   "name": "python3"
  },
  "language_info": {
   "codemirror_mode": {
    "name": "ipython",
    "version": 3
   },
   "file_extension": ".py",
   "mimetype": "text/x-python",
   "name": "python",
   "nbconvert_exporter": "python",
   "pygments_lexer": "ipython3",
   "version": "3.9.13"
  }
 },
 "nbformat": 4,
 "nbformat_minor": 5
}

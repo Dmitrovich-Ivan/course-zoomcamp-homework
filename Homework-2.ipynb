{
 "cells": [
  {
   "cell_type": "code",
   "execution_count": 1,
   "id": "cb1d426c",
   "metadata": {},
   "outputs": [],
   "source": [
    "import numpy as np\n",
    "import pandas as pd\n",
    "\n",
    "import matplotlib.pyplot as plt\n",
    "import seaborn as sns\n",
    "\n",
    "%matplotlib inline"
   ]
  },
  {
   "cell_type": "code",
   "execution_count": 2,
   "id": "1260da17",
   "metadata": {},
   "outputs": [],
   "source": [
    "data = 'https://raw.githubusercontent.com/alexeygrigorev/datasets/master/housing.csv'"
   ]
  },
  {
   "cell_type": "code",
   "execution_count": 3,
   "id": "98c88bb4",
   "metadata": {},
   "outputs": [
    {
     "name": "stderr",
     "output_type": "stream",
     "text": [
      "--2022-09-19 14:22:12--  https://raw.githubusercontent.com/alexeygrigorev/datasets/master/housing.csv\n",
      "Resolving raw.githubusercontent.com (raw.githubusercontent.com)... 185.199.110.133, 185.199.111.133, 185.199.108.133, ...\n",
      "Connecting to raw.githubusercontent.com (raw.githubusercontent.com)|185.199.110.133|:443... connected.\n",
      "HTTP request sent, awaiting response... 200 OK\n",
      "Length: 1423529 (1.4M) [text/plain]\n",
      "Saving to: 'housing.csv.2'\n",
      "\n",
      "     0K .......... .......... .......... .......... ..........  3% 1.75M 1s\n",
      "    50K .......... .......... .......... .......... ..........  7% 4.61M 0s\n",
      "   100K .......... .......... .......... .......... .......... 10% 3.01M 0s\n",
      "   150K .......... .......... .......... .......... .......... 14% 5.78M 0s\n",
      "   200K .......... .......... .......... .......... .......... 17% 6.69M 0s\n",
      "   250K .......... .......... .......... .......... .......... 21% 3.75M 0s\n",
      "   300K .......... .......... .......... .......... .......... 25% 5.87M 0s\n",
      "   350K .......... .......... .......... .......... .......... 28% 3.52M 0s\n",
      "   400K .......... .......... .......... .......... .......... 32% 5.59M 0s\n",
      "   450K .......... .......... .......... .......... .......... 35% 9.68M 0s\n",
      "   500K .......... .......... .......... .......... .......... 39% 11.1M 0s\n",
      "   550K .......... .......... .......... .......... .......... 43% 13.4M 0s\n",
      "   600K .......... .......... .......... .......... .......... 46% 9.53M 0s\n",
      "   650K .......... .......... .......... .......... .......... 50% 10.9M 0s\n",
      "   700K .......... .......... .......... .......... .......... 53% 8.82M 0s\n",
      "   750K .......... .......... .......... .......... .......... 57% 3.04M 0s\n",
      "   800K .......... .......... .......... .......... .......... 61% 15.2M 0s\n",
      "   850K .......... .......... .......... .......... .......... 64% 8.03M 0s\n",
      "   900K .......... .......... .......... .......... .......... 68% 14.0M 0s\n",
      "   950K .......... .......... .......... .......... .......... 71% 7.86M 0s\n",
      "  1000K .......... .......... .......... .......... .......... 75% 53.6M 0s\n",
      "  1050K .......... .......... .......... .......... .......... 79% 1.47M 0s\n",
      "  1100K .......... .......... .......... .......... .......... 82% 37.6M 0s\n",
      "  1150K .......... .......... .......... .......... .......... 86% 30.5M 0s\n",
      "  1200K .......... .......... .......... .......... .......... 89% 18.6M 0s\n",
      "  1250K .......... .......... .......... .......... .......... 93% 22.4M 0s\n",
      "  1300K .......... .......... .......... .......... .......... 97% 3.28M 0s\n",
      "  1350K .......... .......... .......... ..........           100% 16.6M=0.2s\n",
      "\n",
      "2022-09-19 14:22:12 (5.73 MB/s) - 'housing.csv.2' saved [1423529/1423529]\n",
      "\n"
     ]
    }
   ],
   "source": [
    "!wget $data"
   ]
  },
  {
   "cell_type": "markdown",
   "id": "0ebe9a22",
   "metadata": {},
   "source": [
    "## EDA\n",
    "\n",
    "- Load the data.\n",
    "- Look at the median_house_value variable. Does it have a long tail? \n",
    "\n",
    "**It does not seem that the median_house variable is long tailed at first glance**\n"
   ]
  },
  {
   "cell_type": "code",
   "execution_count": 2,
   "id": "6c0e7761",
   "metadata": {},
   "outputs": [
    {
     "data": {
      "text/html": [
       "<div>\n",
       "<style scoped>\n",
       "    .dataframe tbody tr th:only-of-type {\n",
       "        vertical-align: middle;\n",
       "    }\n",
       "\n",
       "    .dataframe tbody tr th {\n",
       "        vertical-align: top;\n",
       "    }\n",
       "\n",
       "    .dataframe thead th {\n",
       "        text-align: right;\n",
       "    }\n",
       "</style>\n",
       "<table border=\"1\" class=\"dataframe\">\n",
       "  <thead>\n",
       "    <tr style=\"text-align: right;\">\n",
       "      <th></th>\n",
       "      <th>longitude</th>\n",
       "      <th>latitude</th>\n",
       "      <th>housing_median_age</th>\n",
       "      <th>total_rooms</th>\n",
       "      <th>total_bedrooms</th>\n",
       "      <th>population</th>\n",
       "      <th>households</th>\n",
       "      <th>median_income</th>\n",
       "      <th>median_house_value</th>\n",
       "      <th>ocean_proximity</th>\n",
       "    </tr>\n",
       "  </thead>\n",
       "  <tbody>\n",
       "    <tr>\n",
       "      <th>0</th>\n",
       "      <td>-122.23</td>\n",
       "      <td>37.88</td>\n",
       "      <td>41.0</td>\n",
       "      <td>880.0</td>\n",
       "      <td>129.0</td>\n",
       "      <td>322.0</td>\n",
       "      <td>126.0</td>\n",
       "      <td>8.3252</td>\n",
       "      <td>452600.0</td>\n",
       "      <td>NEAR BAY</td>\n",
       "    </tr>\n",
       "    <tr>\n",
       "      <th>1</th>\n",
       "      <td>-122.22</td>\n",
       "      <td>37.86</td>\n",
       "      <td>21.0</td>\n",
       "      <td>7099.0</td>\n",
       "      <td>1106.0</td>\n",
       "      <td>2401.0</td>\n",
       "      <td>1138.0</td>\n",
       "      <td>8.3014</td>\n",
       "      <td>358500.0</td>\n",
       "      <td>NEAR BAY</td>\n",
       "    </tr>\n",
       "    <tr>\n",
       "      <th>2</th>\n",
       "      <td>-122.24</td>\n",
       "      <td>37.85</td>\n",
       "      <td>52.0</td>\n",
       "      <td>1467.0</td>\n",
       "      <td>190.0</td>\n",
       "      <td>496.0</td>\n",
       "      <td>177.0</td>\n",
       "      <td>7.2574</td>\n",
       "      <td>352100.0</td>\n",
       "      <td>NEAR BAY</td>\n",
       "    </tr>\n",
       "    <tr>\n",
       "      <th>3</th>\n",
       "      <td>-122.25</td>\n",
       "      <td>37.85</td>\n",
       "      <td>52.0</td>\n",
       "      <td>1274.0</td>\n",
       "      <td>235.0</td>\n",
       "      <td>558.0</td>\n",
       "      <td>219.0</td>\n",
       "      <td>5.6431</td>\n",
       "      <td>341300.0</td>\n",
       "      <td>NEAR BAY</td>\n",
       "    </tr>\n",
       "    <tr>\n",
       "      <th>4</th>\n",
       "      <td>-122.25</td>\n",
       "      <td>37.85</td>\n",
       "      <td>52.0</td>\n",
       "      <td>1627.0</td>\n",
       "      <td>280.0</td>\n",
       "      <td>565.0</td>\n",
       "      <td>259.0</td>\n",
       "      <td>3.8462</td>\n",
       "      <td>342200.0</td>\n",
       "      <td>NEAR BAY</td>\n",
       "    </tr>\n",
       "  </tbody>\n",
       "</table>\n",
       "</div>"
      ],
      "text/plain": [
       "   longitude  latitude  housing_median_age  total_rooms  total_bedrooms  \\\n",
       "0    -122.23     37.88                41.0        880.0           129.0   \n",
       "1    -122.22     37.86                21.0       7099.0          1106.0   \n",
       "2    -122.24     37.85                52.0       1467.0           190.0   \n",
       "3    -122.25     37.85                52.0       1274.0           235.0   \n",
       "4    -122.25     37.85                52.0       1627.0           280.0   \n",
       "\n",
       "   population  households  median_income  median_house_value ocean_proximity  \n",
       "0       322.0       126.0         8.3252            452600.0        NEAR BAY  \n",
       "1      2401.0      1138.0         8.3014            358500.0        NEAR BAY  \n",
       "2       496.0       177.0         7.2574            352100.0        NEAR BAY  \n",
       "3       558.0       219.0         5.6431            341300.0        NEAR BAY  \n",
       "4       565.0       259.0         3.8462            342200.0        NEAR BAY  "
      ]
     },
     "execution_count": 2,
     "metadata": {},
     "output_type": "execute_result"
    }
   ],
   "source": [
    "df = pd.read_csv('housing.csv')\n",
    "\n",
    "df.head()"
   ]
  },
  {
   "cell_type": "code",
   "execution_count": 3,
   "id": "1a6210b2",
   "metadata": {},
   "outputs": [
    {
     "data": {
      "text/html": [
       "<div>\n",
       "<style scoped>\n",
       "    .dataframe tbody tr th:only-of-type {\n",
       "        vertical-align: middle;\n",
       "    }\n",
       "\n",
       "    .dataframe tbody tr th {\n",
       "        vertical-align: top;\n",
       "    }\n",
       "\n",
       "    .dataframe thead th {\n",
       "        text-align: right;\n",
       "    }\n",
       "</style>\n",
       "<table border=\"1\" class=\"dataframe\">\n",
       "  <thead>\n",
       "    <tr style=\"text-align: right;\">\n",
       "      <th></th>\n",
       "      <th>longitude</th>\n",
       "      <th>latitude</th>\n",
       "      <th>housing_median_age</th>\n",
       "      <th>total_rooms</th>\n",
       "      <th>total_bedrooms</th>\n",
       "      <th>population</th>\n",
       "      <th>households</th>\n",
       "      <th>median_income</th>\n",
       "      <th>median_house_value</th>\n",
       "    </tr>\n",
       "  </thead>\n",
       "  <tbody>\n",
       "    <tr>\n",
       "      <th>count</th>\n",
       "      <td>20640.000000</td>\n",
       "      <td>20640.000000</td>\n",
       "      <td>20640.000000</td>\n",
       "      <td>20640.000000</td>\n",
       "      <td>20433.000000</td>\n",
       "      <td>20640.000000</td>\n",
       "      <td>20640.000000</td>\n",
       "      <td>20640.000000</td>\n",
       "      <td>20640.000000</td>\n",
       "    </tr>\n",
       "    <tr>\n",
       "      <th>mean</th>\n",
       "      <td>-119.569704</td>\n",
       "      <td>35.631861</td>\n",
       "      <td>28.639486</td>\n",
       "      <td>2635.763081</td>\n",
       "      <td>537.870553</td>\n",
       "      <td>1425.476744</td>\n",
       "      <td>499.539680</td>\n",
       "      <td>3.870671</td>\n",
       "      <td>206855.816909</td>\n",
       "    </tr>\n",
       "    <tr>\n",
       "      <th>std</th>\n",
       "      <td>2.003532</td>\n",
       "      <td>2.135952</td>\n",
       "      <td>12.585558</td>\n",
       "      <td>2181.615252</td>\n",
       "      <td>421.385070</td>\n",
       "      <td>1132.462122</td>\n",
       "      <td>382.329753</td>\n",
       "      <td>1.899822</td>\n",
       "      <td>115395.615874</td>\n",
       "    </tr>\n",
       "    <tr>\n",
       "      <th>min</th>\n",
       "      <td>-124.350000</td>\n",
       "      <td>32.540000</td>\n",
       "      <td>1.000000</td>\n",
       "      <td>2.000000</td>\n",
       "      <td>1.000000</td>\n",
       "      <td>3.000000</td>\n",
       "      <td>1.000000</td>\n",
       "      <td>0.499900</td>\n",
       "      <td>14999.000000</td>\n",
       "    </tr>\n",
       "    <tr>\n",
       "      <th>25%</th>\n",
       "      <td>-121.800000</td>\n",
       "      <td>33.930000</td>\n",
       "      <td>18.000000</td>\n",
       "      <td>1447.750000</td>\n",
       "      <td>296.000000</td>\n",
       "      <td>787.000000</td>\n",
       "      <td>280.000000</td>\n",
       "      <td>2.563400</td>\n",
       "      <td>119600.000000</td>\n",
       "    </tr>\n",
       "    <tr>\n",
       "      <th>50%</th>\n",
       "      <td>-118.490000</td>\n",
       "      <td>34.260000</td>\n",
       "      <td>29.000000</td>\n",
       "      <td>2127.000000</td>\n",
       "      <td>435.000000</td>\n",
       "      <td>1166.000000</td>\n",
       "      <td>409.000000</td>\n",
       "      <td>3.534800</td>\n",
       "      <td>179700.000000</td>\n",
       "    </tr>\n",
       "    <tr>\n",
       "      <th>75%</th>\n",
       "      <td>-118.010000</td>\n",
       "      <td>37.710000</td>\n",
       "      <td>37.000000</td>\n",
       "      <td>3148.000000</td>\n",
       "      <td>647.000000</td>\n",
       "      <td>1725.000000</td>\n",
       "      <td>605.000000</td>\n",
       "      <td>4.743250</td>\n",
       "      <td>264725.000000</td>\n",
       "    </tr>\n",
       "    <tr>\n",
       "      <th>max</th>\n",
       "      <td>-114.310000</td>\n",
       "      <td>41.950000</td>\n",
       "      <td>52.000000</td>\n",
       "      <td>39320.000000</td>\n",
       "      <td>6445.000000</td>\n",
       "      <td>35682.000000</td>\n",
       "      <td>6082.000000</td>\n",
       "      <td>15.000100</td>\n",
       "      <td>500001.000000</td>\n",
       "    </tr>\n",
       "  </tbody>\n",
       "</table>\n",
       "</div>"
      ],
      "text/plain": [
       "          longitude      latitude  housing_median_age   total_rooms  \\\n",
       "count  20640.000000  20640.000000        20640.000000  20640.000000   \n",
       "mean    -119.569704     35.631861           28.639486   2635.763081   \n",
       "std        2.003532      2.135952           12.585558   2181.615252   \n",
       "min     -124.350000     32.540000            1.000000      2.000000   \n",
       "25%     -121.800000     33.930000           18.000000   1447.750000   \n",
       "50%     -118.490000     34.260000           29.000000   2127.000000   \n",
       "75%     -118.010000     37.710000           37.000000   3148.000000   \n",
       "max     -114.310000     41.950000           52.000000  39320.000000   \n",
       "\n",
       "       total_bedrooms    population    households  median_income  \\\n",
       "count    20433.000000  20640.000000  20640.000000   20640.000000   \n",
       "mean       537.870553   1425.476744    499.539680       3.870671   \n",
       "std        421.385070   1132.462122    382.329753       1.899822   \n",
       "min          1.000000      3.000000      1.000000       0.499900   \n",
       "25%        296.000000    787.000000    280.000000       2.563400   \n",
       "50%        435.000000   1166.000000    409.000000       3.534800   \n",
       "75%        647.000000   1725.000000    605.000000       4.743250   \n",
       "max       6445.000000  35682.000000   6082.000000      15.000100   \n",
       "\n",
       "       median_house_value  \n",
       "count        20640.000000  \n",
       "mean        206855.816909  \n",
       "std         115395.615874  \n",
       "min          14999.000000  \n",
       "25%         119600.000000  \n",
       "50%         179700.000000  \n",
       "75%         264725.000000  \n",
       "max         500001.000000  "
      ]
     },
     "execution_count": 3,
     "metadata": {},
     "output_type": "execute_result"
    }
   ],
   "source": [
    "df.describe()"
   ]
  },
  {
   "cell_type": "code",
   "execution_count": 4,
   "id": "99a148bd",
   "metadata": {},
   "outputs": [
    {
     "data": {
      "text/plain": [
       "<AxesSubplot:xlabel='median_house_value', ylabel='Count'>"
      ]
     },
     "execution_count": 4,
     "metadata": {},
     "output_type": "execute_result"
    },
    {
     "data": {
      "image/png": "[encoded data removed]",
      "text/plain": [
       "<Figure size 640x480 with 1 Axes>"
      ]
     },
     "metadata": {},
     "output_type": "display_data"
    }
   ],
   "source": [
    "sns.histplot(df['median_house_value'], bins = 50)"
   ]
  },
  {
   "cell_type": "code",
   "execution_count": 5,
   "id": "05e3001b",
   "metadata": {},
   "outputs": [],
   "source": [
    "features = [\n",
    "    'latitude',\n",
    "    'longitude',\n",
    "    'housing_median_age',\n",
    "    'total_rooms',\n",
    "    'total_bedrooms',\n",
    "    'population',\n",
    "    'households',\n",
    "    'median_income'\n",
    "    #,'median_house_value'\n",
    "]"
   ]
  },
  {
   "cell_type": "markdown",
   "id": "b6c0bef1",
   "metadata": {},
   "source": [
    "## Question 1\n",
    "\n",
    "Find a feature with missing values. How many missing values does it have? **207**\n"
   ]
  },
  {
   "cell_type": "code",
   "execution_count": 6,
   "id": "9ff8f348",
   "metadata": {},
   "outputs": [
    {
     "data": {
      "text/plain": [
       "longitude               0\n",
       "latitude                0\n",
       "housing_median_age      0\n",
       "total_rooms             0\n",
       "total_bedrooms        207\n",
       "population              0\n",
       "households              0\n",
       "median_income           0\n",
       "median_house_value      0\n",
       "ocean_proximity         0\n",
       "dtype: int64"
      ]
     },
     "execution_count": 6,
     "metadata": {},
     "output_type": "execute_result"
    }
   ],
   "source": [
    "df.isnull().sum(axis = 0)"
   ]
  },
  {
   "cell_type": "markdown",
   "id": "210ea364",
   "metadata": {},
   "source": [
    "## Question 2\n",
    "\n",
    "What's the median (50% percentile) for variable 'population'? **1166**\n"
   ]
  },
  {
   "cell_type": "code",
   "execution_count": 7,
   "id": "8756c4e2",
   "metadata": {},
   "outputs": [
    {
     "data": {
      "text/plain": [
       "1166.0"
      ]
     },
     "execution_count": 7,
     "metadata": {},
     "output_type": "execute_result"
    }
   ],
   "source": [
    "df['population'].median()"
   ]
  },
  {
   "cell_type": "markdown",
   "id": "481dc046",
   "metadata": {},
   "source": [
    "## Split the data\n",
    "\n",
    "- Shuffle the initial dataset, use seed 42.\n",
    "- Split your data in train/val/test sets, with 60%/20%/20% distribution.\n",
    "- Make sure that the target value ('median_house_value') is not in your dataframe.\n",
    "- Apply the log transformation to the median_house_value variable using the np.log1p() function.\n"
   ]
  },
  {
   "cell_type": "code",
   "execution_count": 8,
   "id": "4618c2d3",
   "metadata": {},
   "outputs": [
    {
     "name": "stdout",
     "output_type": "stream",
     "text": [
      "20640 12384 4128 4128 20640\n"
     ]
    }
   ],
   "source": [
    "n = df.shape[0]\n",
    "\n",
    "n_val = int(n * 0.2)\n",
    "n_test = int(n * 0.2)\n",
    "n_train = n - n_val - n_test\n",
    "\n",
    "print(n, n_train, n_val, n_test, n_train + n_val + n_test)"
   ]
  },
  {
   "cell_type": "code",
   "execution_count": 9,
   "id": "c4fcb1ca",
   "metadata": {},
   "outputs": [
    {
     "name": "stdout",
     "output_type": "stream",
     "text": [
      "[20046  3024 15663 ...  5390   860 15795]\n"
     ]
    }
   ],
   "source": [
    "idx = np.arange(n)\n",
    "\n",
    "np.random.seed(42) \n",
    "np.random.shuffle(idx)\n",
    "\n",
    "print(idx)"
   ]
  },
  {
   "cell_type": "code",
   "execution_count": 10,
   "id": "1c30eeb6",
   "metadata": {},
   "outputs": [
    {
     "name": "stdout",
     "output_type": "stream",
     "text": [
      "(12384, 10)\n",
      "(4128, 10)\n",
      "(4128, 10)\n"
     ]
    }
   ],
   "source": [
    "df_train = df.iloc[idx[:n_train]]\n",
    "df_val = df.iloc[idx[n_train : n_train + n_val]]\n",
    "df_test = df.iloc[idx[n_train + n_val :]]\n",
    "\n",
    "print(df_train.shape)\n",
    "print(df_val.shape)\n",
    "print(df_test.shape)"
   ]
  },
  {
   "cell_type": "code",
   "execution_count": 11,
   "id": "b9f71d50",
   "metadata": {},
   "outputs": [
    {
     "data": {
      "text/html": [
       "<div>\n",
       "<style scoped>\n",
       "    .dataframe tbody tr th:only-of-type {\n",
       "        vertical-align: middle;\n",
       "    }\n",
       "\n",
       "    .dataframe tbody tr th {\n",
       "        vertical-align: top;\n",
       "    }\n",
       "\n",
       "    .dataframe thead th {\n",
       "        text-align: right;\n",
       "    }\n",
       "</style>\n",
       "<table border=\"1\" class=\"dataframe\">\n",
       "  <thead>\n",
       "    <tr style=\"text-align: right;\">\n",
       "      <th></th>\n",
       "      <th>longitude</th>\n",
       "      <th>latitude</th>\n",
       "      <th>housing_median_age</th>\n",
       "      <th>total_rooms</th>\n",
       "      <th>total_bedrooms</th>\n",
       "      <th>population</th>\n",
       "      <th>households</th>\n",
       "      <th>median_income</th>\n",
       "      <th>median_house_value</th>\n",
       "      <th>ocean_proximity</th>\n",
       "    </tr>\n",
       "  </thead>\n",
       "  <tbody>\n",
       "    <tr>\n",
       "      <th>20046</th>\n",
       "      <td>-119.01</td>\n",
       "      <td>36.06</td>\n",
       "      <td>25.0</td>\n",
       "      <td>1505.0</td>\n",
       "      <td>NaN</td>\n",
       "      <td>1392.0</td>\n",
       "      <td>359.0</td>\n",
       "      <td>1.6812</td>\n",
       "      <td>47700.0</td>\n",
       "      <td>INLAND</td>\n",
       "    </tr>\n",
       "    <tr>\n",
       "      <th>3024</th>\n",
       "      <td>-119.46</td>\n",
       "      <td>35.14</td>\n",
       "      <td>30.0</td>\n",
       "      <td>2943.0</td>\n",
       "      <td>NaN</td>\n",
       "      <td>1565.0</td>\n",
       "      <td>584.0</td>\n",
       "      <td>2.5313</td>\n",
       "      <td>45800.0</td>\n",
       "      <td>INLAND</td>\n",
       "    </tr>\n",
       "    <tr>\n",
       "      <th>15663</th>\n",
       "      <td>-122.44</td>\n",
       "      <td>37.80</td>\n",
       "      <td>52.0</td>\n",
       "      <td>3830.0</td>\n",
       "      <td>NaN</td>\n",
       "      <td>1310.0</td>\n",
       "      <td>963.0</td>\n",
       "      <td>3.4801</td>\n",
       "      <td>500001.0</td>\n",
       "      <td>NEAR BAY</td>\n",
       "    </tr>\n",
       "  </tbody>\n",
       "</table>\n",
       "</div>"
      ],
      "text/plain": [
       "       longitude  latitude  housing_median_age  total_rooms  total_bedrooms  \\\n",
       "20046    -119.01     36.06                25.0       1505.0             NaN   \n",
       "3024     -119.46     35.14                30.0       2943.0             NaN   \n",
       "15663    -122.44     37.80                52.0       3830.0             NaN   \n",
       "\n",
       "       population  households  median_income  median_house_value  \\\n",
       "20046      1392.0       359.0         1.6812             47700.0   \n",
       "3024       1565.0       584.0         2.5313             45800.0   \n",
       "15663      1310.0       963.0         3.4801            500001.0   \n",
       "\n",
       "      ocean_proximity  \n",
       "20046          INLAND  \n",
       "3024           INLAND  \n",
       "15663        NEAR BAY  "
      ]
     },
     "execution_count": 11,
     "metadata": {},
     "output_type": "execute_result"
    }
   ],
   "source": [
    "df_train.head(3)"
   ]
  },
  {
   "cell_type": "code",
   "execution_count": 12,
   "id": "83dac5bb",
   "metadata": {},
   "outputs": [
    {
     "data": {
      "text/html": [
       "<div>\n",
       "<style scoped>\n",
       "    .dataframe tbody tr th:only-of-type {\n",
       "        vertical-align: middle;\n",
       "    }\n",
       "\n",
       "    .dataframe tbody tr th {\n",
       "        vertical-align: top;\n",
       "    }\n",
       "\n",
       "    .dataframe thead th {\n",
       "        text-align: right;\n",
       "    }\n",
       "</style>\n",
       "<table border=\"1\" class=\"dataframe\">\n",
       "  <thead>\n",
       "    <tr style=\"text-align: right;\">\n",
       "      <th></th>\n",
       "      <th>longitude</th>\n",
       "      <th>latitude</th>\n",
       "      <th>housing_median_age</th>\n",
       "      <th>total_rooms</th>\n",
       "      <th>total_bedrooms</th>\n",
       "      <th>population</th>\n",
       "      <th>households</th>\n",
       "      <th>median_income</th>\n",
       "      <th>median_house_value</th>\n",
       "      <th>ocean_proximity</th>\n",
       "    </tr>\n",
       "  </thead>\n",
       "  <tbody>\n",
       "    <tr>\n",
       "      <th>19660</th>\n",
       "      <td>-120.85</td>\n",
       "      <td>37.51</td>\n",
       "      <td>15.0</td>\n",
       "      <td>1131.0</td>\n",
       "      <td>285.0</td>\n",
       "      <td>728.0</td>\n",
       "      <td>281.0</td>\n",
       "      <td>1.5531</td>\n",
       "      <td>93100.0</td>\n",
       "      <td>INLAND</td>\n",
       "    </tr>\n",
       "    <tr>\n",
       "      <th>4415</th>\n",
       "      <td>-118.25</td>\n",
       "      <td>34.09</td>\n",
       "      <td>52.0</td>\n",
       "      <td>1866.0</td>\n",
       "      <td>470.0</td>\n",
       "      <td>1211.0</td>\n",
       "      <td>417.0</td>\n",
       "      <td>2.9350</td>\n",
       "      <td>189400.0</td>\n",
       "      <td>&lt;1H OCEAN</td>\n",
       "    </tr>\n",
       "    <tr>\n",
       "      <th>18113</th>\n",
       "      <td>-122.02</td>\n",
       "      <td>37.31</td>\n",
       "      <td>34.0</td>\n",
       "      <td>2629.0</td>\n",
       "      <td>433.0</td>\n",
       "      <td>1301.0</td>\n",
       "      <td>431.0</td>\n",
       "      <td>6.0830</td>\n",
       "      <td>341400.0</td>\n",
       "      <td>&lt;1H OCEAN</td>\n",
       "    </tr>\n",
       "  </tbody>\n",
       "</table>\n",
       "</div>"
      ],
      "text/plain": [
       "       longitude  latitude  housing_median_age  total_rooms  total_bedrooms  \\\n",
       "19660    -120.85     37.51                15.0       1131.0           285.0   \n",
       "4415     -118.25     34.09                52.0       1866.0           470.0   \n",
       "18113    -122.02     37.31                34.0       2629.0           433.0   \n",
       "\n",
       "       population  households  median_income  median_house_value  \\\n",
       "19660       728.0       281.0         1.5531             93100.0   \n",
       "4415       1211.0       417.0         2.9350            189400.0   \n",
       "18113      1301.0       431.0         6.0830            341400.0   \n",
       "\n",
       "      ocean_proximity  \n",
       "19660          INLAND  \n",
       "4415        <1H OCEAN  \n",
       "18113       <1H OCEAN  "
      ]
     },
     "execution_count": 12,
     "metadata": {},
     "output_type": "execute_result"
    }
   ],
   "source": [
    "df_val.head(3)"
   ]
  },
  {
   "cell_type": "code",
   "execution_count": 13,
   "id": "d831fa22",
   "metadata": {},
   "outputs": [
    {
     "data": {
      "text/html": [
       "<div>\n",
       "<style scoped>\n",
       "    .dataframe tbody tr th:only-of-type {\n",
       "        vertical-align: middle;\n",
       "    }\n",
       "\n",
       "    .dataframe tbody tr th {\n",
       "        vertical-align: top;\n",
       "    }\n",
       "\n",
       "    .dataframe thead th {\n",
       "        text-align: right;\n",
       "    }\n",
       "</style>\n",
       "<table border=\"1\" class=\"dataframe\">\n",
       "  <thead>\n",
       "    <tr style=\"text-align: right;\">\n",
       "      <th></th>\n",
       "      <th>longitude</th>\n",
       "      <th>latitude</th>\n",
       "      <th>housing_median_age</th>\n",
       "      <th>total_rooms</th>\n",
       "      <th>total_bedrooms</th>\n",
       "      <th>population</th>\n",
       "      <th>households</th>\n",
       "      <th>median_income</th>\n",
       "      <th>median_house_value</th>\n",
       "      <th>ocean_proximity</th>\n",
       "    </tr>\n",
       "  </thead>\n",
       "  <tbody>\n",
       "    <tr>\n",
       "      <th>9221</th>\n",
       "      <td>-120.26</td>\n",
       "      <td>37.13</td>\n",
       "      <td>33.0</td>\n",
       "      <td>1239.0</td>\n",
       "      <td>250.0</td>\n",
       "      <td>648.0</td>\n",
       "      <td>227.0</td>\n",
       "      <td>2.0278</td>\n",
       "      <td>58800.0</td>\n",
       "      <td>INLAND</td>\n",
       "    </tr>\n",
       "    <tr>\n",
       "      <th>10234</th>\n",
       "      <td>-117.91</td>\n",
       "      <td>33.86</td>\n",
       "      <td>26.0</td>\n",
       "      <td>2296.0</td>\n",
       "      <td>570.0</td>\n",
       "      <td>1415.0</td>\n",
       "      <td>527.0</td>\n",
       "      <td>2.4732</td>\n",
       "      <td>165800.0</td>\n",
       "      <td>&lt;1H OCEAN</td>\n",
       "    </tr>\n",
       "    <tr>\n",
       "      <th>4763</th>\n",
       "      <td>-118.36</td>\n",
       "      <td>34.04</td>\n",
       "      <td>48.0</td>\n",
       "      <td>1769.0</td>\n",
       "      <td>429.0</td>\n",
       "      <td>993.0</td>\n",
       "      <td>405.0</td>\n",
       "      <td>2.3214</td>\n",
       "      <td>139400.0</td>\n",
       "      <td>&lt;1H OCEAN</td>\n",
       "    </tr>\n",
       "  </tbody>\n",
       "</table>\n",
       "</div>"
      ],
      "text/plain": [
       "       longitude  latitude  housing_median_age  total_rooms  total_bedrooms  \\\n",
       "9221     -120.26     37.13                33.0       1239.0           250.0   \n",
       "10234    -117.91     33.86                26.0       2296.0           570.0   \n",
       "4763     -118.36     34.04                48.0       1769.0           429.0   \n",
       "\n",
       "       population  households  median_income  median_house_value  \\\n",
       "9221        648.0       227.0         2.0278             58800.0   \n",
       "10234      1415.0       527.0         2.4732            165800.0   \n",
       "4763        993.0       405.0         2.3214            139400.0   \n",
       "\n",
       "      ocean_proximity  \n",
       "9221           INLAND  \n",
       "10234       <1H OCEAN  \n",
       "4763        <1H OCEAN  "
      ]
     },
     "execution_count": 13,
     "metadata": {},
     "output_type": "execute_result"
    }
   ],
   "source": [
    "df_test.head(3)"
   ]
  },
  {
   "cell_type": "code",
   "execution_count": 14,
   "id": "e6f2e15d",
   "metadata": {},
   "outputs": [],
   "source": [
    "y_train = np.log1p(df_train['median_house_value'].values)\n",
    "y_val = np.log1p(df_val['median_house_value'].values)\n",
    "y_test = np.log1p(df_test['median_house_value'].values)"
   ]
  },
  {
   "cell_type": "code",
   "execution_count": 15,
   "id": "350a1283",
   "metadata": {},
   "outputs": [],
   "source": [
    "del df_train['median_house_value']\n",
    "del df_val['median_house_value']\n",
    "del df_test['median_house_value']"
   ]
  },
  {
   "cell_type": "code",
   "execution_count": 16,
   "id": "03b5f9ec",
   "metadata": {},
   "outputs": [],
   "source": [
    "del df_train['ocean_proximity']\n",
    "del df_val['ocean_proximity']\n",
    "del df_test['ocean_proximity']"
   ]
  },
  {
   "cell_type": "markdown",
   "id": "e70bb7a2",
   "metadata": {},
   "source": [
    "## Question 3\n",
    "\n",
    "- We need to deal with missing values for the column from Q1.\n",
    "- We have two options: fill it with 0 or with the mean of this variable.\n",
    "- Try both options. For each, train a linear regression model without regularization using the code from the lessons.\n",
    "- For computing the mean, use the training only!\n",
    "- Use the validation dataset to evaluate the models and compare the RMSE of each option.\n",
    "- Round the RMSE scores to 2 decimal digits using round(score, 2)\n",
    "- Which option gives better RMSE?\n",
    "\n",
    "**If we round them to 2 digits both are equally good. If we do not round scores filling with mean is slightly better**\n"
   ]
  },
  {
   "cell_type": "code",
   "execution_count": 17,
   "id": "9c0c25e1",
   "metadata": {},
   "outputs": [
    {
     "data": {
      "text/plain": [
       "longitude               0\n",
       "latitude                0\n",
       "housing_median_age      0\n",
       "total_rooms             0\n",
       "total_bedrooms        207\n",
       "population              0\n",
       "households              0\n",
       "median_income           0\n",
       "dtype: int64"
      ]
     },
     "execution_count": 17,
     "metadata": {},
     "output_type": "execute_result"
    }
   ],
   "source": [
    "df_train.isnull().sum(axis = 0)"
   ]
  },
  {
   "cell_type": "code",
   "execution_count": 18,
   "id": "7bc3982d",
   "metadata": {},
   "outputs": [
    {
     "data": {
      "text/plain": [
       "longitude             0\n",
       "latitude              0\n",
       "housing_median_age    0\n",
       "total_rooms           0\n",
       "total_bedrooms        0\n",
       "population            0\n",
       "households            0\n",
       "median_income         0\n",
       "dtype: int64"
      ]
     },
     "execution_count": 18,
     "metadata": {},
     "output_type": "execute_result"
    }
   ],
   "source": [
    "df_val.isnull().sum(axis = 0)"
   ]
  },
  {
   "cell_type": "code",
   "execution_count": 19,
   "id": "b0a3c84f",
   "metadata": {},
   "outputs": [
    {
     "data": {
      "text/plain": [
       "longitude             0\n",
       "latitude              0\n",
       "housing_median_age    0\n",
       "total_rooms           0\n",
       "total_bedrooms        0\n",
       "population            0\n",
       "households            0\n",
       "median_income         0\n",
       "dtype: int64"
      ]
     },
     "execution_count": 19,
     "metadata": {},
     "output_type": "execute_result"
    }
   ],
   "source": [
    "df_test.isnull().sum(axis = 0)"
   ]
  },
  {
   "cell_type": "code",
   "execution_count": 20,
   "id": "301c74fc",
   "metadata": {},
   "outputs": [],
   "source": [
    "def dot(xi, w):\n",
    "    n = len(xi)\n",
    "    \n",
    "    res = 0.0\n",
    "    \n",
    "    for j in range(n):\n",
    "        res = res + xi[j] * w[j]\n",
    "    \n",
    "    return res"
   ]
  },
  {
   "cell_type": "code",
   "execution_count": 21,
   "id": "e4780e84",
   "metadata": {},
   "outputs": [],
   "source": [
    "def train_linear_regression(X, y):\n",
    "    ones = np.ones(X.shape[0])\n",
    "    X = np.column_stack([ones, X])\n",
    "\n",
    "    XTX = X.T.dot(X)\n",
    "    XTX_inv = np.linalg.inv(XTX)\n",
    "    w_full = XTX_inv.dot(X.T).dot(y)\n",
    "    \n",
    "    return w_full[0], w_full[1:]"
   ]
  },
  {
   "cell_type": "code",
   "execution_count": 22,
   "id": "7f5e8835",
   "metadata": {},
   "outputs": [],
   "source": [
    "def rmse(y, y_pred):\n",
    "    se = (y - y_pred) ** 2\n",
    "    mse = se.mean()\n",
    "    return np.sqrt(mse)"
   ]
  },
  {
   "cell_type": "code",
   "execution_count": 23,
   "id": "2486cb2f",
   "metadata": {},
   "outputs": [],
   "source": [
    "def prepare_X(df):\n",
    "    df_num = df[features]\n",
    "    df_num = df_num.fillna(0)\n",
    "    X = df_num.values\n",
    "    return X"
   ]
  },
  {
   "cell_type": "code",
   "execution_count": 24,
   "id": "b426bf8c",
   "metadata": {},
   "outputs": [
    {
     "data": {
      "text/plain": [
       "533.4803317730147"
      ]
     },
     "execution_count": 24,
     "metadata": {},
     "output_type": "execute_result"
    }
   ],
   "source": [
    "X_train_1 = df_train[features].fillna(0).values\n",
    "X_train_2 = df_train[features].fillna(df_train['total_bedrooms'].mean()).values\n",
    "X_train_3 = prepare_X(df_train)\n",
    "\n",
    "df_train['total_bedrooms'].mean()"
   ]
  },
  {
   "cell_type": "code",
   "execution_count": 25,
   "id": "35f1c783",
   "metadata": {},
   "outputs": [],
   "source": [
    "#print(X_train_1, '\\n\\n')\n",
    "#print(X_train_2, '\\n\\n')\n",
    "#print(X_train_3, '\\n\\n')"
   ]
  },
  {
   "cell_type": "code",
   "execution_count": 26,
   "id": "ced6ae6c",
   "metadata": {},
   "outputs": [
    {
     "name": "stdout",
     "output_type": "stream",
     "text": [
      "0.3295330365231347\n",
      "0.32901954390040355\n",
      "0.3295330365231347\n",
      "0.33\n",
      "0.33\n",
      "0.33\n"
     ]
    }
   ],
   "source": [
    "w0_1, w_1 = train_linear_regression(X_train_1, y_train) #filled with 0\n",
    "\n",
    "w0_2, w_2 = train_linear_regression(X_train_2, y_train) #filled with mean\n",
    "\n",
    "w0_3, w_3 = train_linear_regression(X_train_3, y_train) #filled with 0 using func from the lesson notebook\n",
    "\n",
    "X_val = prepare_X(df_val)\n",
    "\n",
    "y_pred_1 = w0_1 + X_val.dot(w_1)\n",
    "y_pred_2 = w0_2 + X_val.dot(w_2)\n",
    "y_pred_3 = w0_3 + X_val.dot(w_3)\n",
    "\n",
    "score_1 = rmse(y_val, y_pred_1)\n",
    "score_2 = rmse(y_val, y_pred_2)\n",
    "score_3 = rmse(y_val, y_pred_3)\n",
    "\n",
    "print(score_1)\n",
    "print(score_2)\n",
    "print(score_3)\n",
    "\n",
    "print(round(score_1, 2))\n",
    "print(round(score_2, 2))\n",
    "print(round(score_3, 2))"
   ]
  },
  {
   "cell_type": "markdown",
   "id": "056267f4",
   "metadata": {},
   "source": [
    "## Question 4\n",
    "\n",
    "- Now let's train a regularized linear regression.\n",
    "- For this question, fill the NAs with 0.\n",
    "- Try different values of r from this list: [0, 0.000001, 0.0001, 0.001, 0.01, 0.1, 1, 5, 10].\n",
    "- Use RMSE to evaluate the model on the validation dataset.\n",
    "- Round the RMSE scores to 2 decimal digits.\n",
    "- Which r gives the best RMSE?\n",
    "\n",
    "If there are multiple options, select the smallest r. **0**\n"
   ]
  },
  {
   "cell_type": "code",
   "execution_count": 28,
   "id": "eae31cd3",
   "metadata": {},
   "outputs": [],
   "source": [
    "def train_linear_regression_reg(X, y, r=0.001):\n",
    "    ones = np.ones(X.shape[0])\n",
    "    X = np.column_stack([ones, X])\n",
    "\n",
    "    XTX = X.T.dot(X)\n",
    "    XTX = XTX + r * np.eye(XTX.shape[0])\n",
    "\n",
    "    XTX_inv = np.linalg.inv(XTX)\n",
    "    w_full = XTX_inv.dot(X.T).dot(y)\n",
    "    \n",
    "    return w_full[0], w_full[1:]"
   ]
  },
  {
   "cell_type": "code",
   "execution_count": 29,
   "id": "a6826adb",
   "metadata": {},
   "outputs": [
    {
     "name": "stdout",
     "output_type": "stream",
     "text": [
      "0.3295319365989469\n"
     ]
    }
   ],
   "source": [
    "X_train_4 = prepare_X(df_train)\n",
    "\n",
    "w0_4, w_4 = train_linear_regression_reg(X_train_4, y_train, r=0.01)\n",
    "\n",
    "X_val = prepare_X(df_val)\n",
    "y_pred_4 = w0_4 + X_val.dot(w_4)\n",
    "score_4 = rmse(y_val, y_pred_4)\n",
    "print(score_4)"
   ]
  },
  {
   "cell_type": "code",
   "execution_count": 35,
   "id": "fa54dd3d",
   "metadata": {},
   "outputs": [
    {
     "data": {
      "text/plain": [
       "{0: 0.33,\n",
       " 1e-06: 0.33,\n",
       " 0.0001: 0.33,\n",
       " 0.001: 0.33,\n",
       " 0.01: 0.33,\n",
       " 0.1: 0.33,\n",
       " 1: 0.33,\n",
       " 5: 0.34,\n",
       " 10: 0.34}"
      ]
     },
     "execution_count": 35,
     "metadata": {},
     "output_type": "execute_result"
    }
   ],
   "source": [
    "scores_dict = {}\n",
    "\n",
    "for r_val in [0, 0.000001, 0.0001, 0.001, 0.01, 0.1, 1, 5, 10]:\n",
    "    \n",
    "    X_train_4 = prepare_X(df_train)  \n",
    "    w0_4, w_4 = train_linear_regression_reg(X_train_4, y_train, r = r_val)\n",
    "    \n",
    "    X_val = prepare_X(df_val)\n",
    "    y_pred_4 = w0_4 + X_val.dot(w_4)\n",
    "    score_4 = rmse(y_val, y_pred_4)\n",
    "    scores_dict[r_val] = round(score_4,2)\n",
    "    \n",
    "dict(sorted(scores_dict.items(), key=lambda item: item[1])) "
   ]
  },
  {
   "cell_type": "markdown",
   "id": "979f35b9",
   "metadata": {},
   "source": [
    "## Question 5\n",
    "\n",
    "- We used seed 42 for splitting the data. Let's find out how selecting the seed influences our score.\n",
    "- Try different seed values: [0, 1, 2, 3, 4, 5, 6, 7, 8, 9].\n",
    "- For each seed, do the train/validation/test split with 60%/20%/20% distribution.\n",
    "- Fill the missing values with 0 and train a model without regularization.\n",
    "- For each seed, evaluate the model on the validation dataset and collect the RMSE scores.\n",
    "- What's the standard deviation of all the scores? To compute the standard deviation, use np.std.\n",
    "- Round the result to 3 decimal digits (round(std, 3)) **0.0042**\n"
   ]
  },
  {
   "cell_type": "code",
   "execution_count": 37,
   "id": "0a669f0c",
   "metadata": {},
   "outputs": [],
   "source": [
    "df_5 = df.copy()"
   ]
  },
  {
   "cell_type": "code",
   "execution_count": 48,
   "id": "27107047",
   "metadata": {},
   "outputs": [
    {
     "name": "stdout",
     "output_type": "stream",
     "text": [
      "0  :  0.33884304805295884\n",
      "1  :  0.3362387255955875\n",
      "2  :  0.3320912318844027\n",
      "3  :  0.34051536090355167\n",
      "4  :  0.3389024066572691\n",
      "5  :  0.3434866725719515\n",
      "6  :  0.3451980953098988\n",
      "7  :  0.3395989927404383\n",
      "8  :  0.3466230873192809\n",
      "9  :  0.3365926124192128\n"
     ]
    }
   ],
   "source": [
    "scores_seeds = {}\n",
    "scores_s = []\n",
    "\n",
    "for s in [0, 1, 2, 3, 4, 5, 6, 7, 8, 9]:\n",
    "    \n",
    "    idx = np.arange(n)\n",
    "    np.random.seed(s) \n",
    "    np.random.shuffle(idx)\n",
    "    \n",
    "    df_train_5 = df_5.iloc[idx[:n_train]]\n",
    "    df_val_5 = df_5.iloc[idx[n_train : n_train + n_val]]\n",
    "    df_test_5 = df_5.iloc[idx[n_train + n_val :]]\n",
    "    \n",
    "    y_train_5 = np.log1p(df_train_5['median_house_value'].values)\n",
    "    y_val_5 = np.log1p(df_val_5['median_house_value'].values)\n",
    "    y_test_5 = np.log1p(df_test_5['median_house_value'].values)\n",
    "    \n",
    "    \n",
    "    del df_train_5['median_house_value']\n",
    "    del df_val_5['median_house_value']\n",
    "    del df_test_5['median_house_value']\n",
    "    \n",
    "    del df_train_5['ocean_proximity']\n",
    "    del df_val_5['ocean_proximity']\n",
    "    del df_test_5['ocean_proximity']\n",
    "    \n",
    "    X_train_5 = prepare_X(df_train_5)\n",
    "\n",
    "    w0_5, w_5 = train_linear_regression(X_train_5, y_train_5)\n",
    "\n",
    "    X_val_5 = prepare_X(df_val_5)\n",
    "    \n",
    "    y_pred_5 = w0_5 + X_val_5.dot(w_5)\n",
    "    score_5 = rmse(y_val_5, y_pred_5)\n",
    "    print(s, ' : ', score_5)\n",
    "    \n",
    "    scores_seeds[s] = score_5\n",
    "    scores_s = np.append(scores_s, score_5)\n"
   ]
  },
  {
   "cell_type": "code",
   "execution_count": 52,
   "id": "51a75e75",
   "metadata": {},
   "outputs": [
    {
     "data": {
      "text/plain": [
       "0.0042"
      ]
     },
     "execution_count": 52,
     "metadata": {},
     "output_type": "execute_result"
    }
   ],
   "source": [
    "(round(np.std(scores_s), 4))"
   ]
  },
  {
   "cell_type": "markdown",
   "id": "542f23ec",
   "metadata": {},
   "source": [
    "## Question 6\n",
    "\n",
    "- Split the dataset like previously, use seed 9.\n",
    "- Combine train and validation datasets.\n",
    "- Fill the missing values with 0 and train a model with r=0.001.\n",
    "- What's the RMSE on the test dataset? **0.33659**\n"
   ]
  },
  {
   "cell_type": "code",
   "execution_count": 68,
   "id": "c691bdeb",
   "metadata": {},
   "outputs": [],
   "source": [
    "idx = np.arange(n)\n",
    "np.random.seed(9) \n",
    "np.random.shuffle(idx)\n",
    "    \n",
    "df_train_6 = df_5.iloc[idx[:n_train]]\n",
    "df_val_6 = df_5.iloc[idx[n_train : n_train + n_val]]\n",
    "df_test_6 = df_5.iloc[idx[n_train + n_val :]]\n",
    "\n",
    "y_train_6 = np.log1p(df_train_6['median_house_value'].values)\n",
    "y_val_6 = np.log1p(df_val_6['median_house_value'].values)\n",
    "y_test_6 = np.log1p(df_test_6['median_house_value'].values)  \n"
   ]
  },
  {
   "cell_type": "code",
   "execution_count": 69,
   "id": "9fcbbab7",
   "metadata": {},
   "outputs": [
    {
     "data": {
      "text/html": [
       "<div>\n",
       "<style scoped>\n",
       "    .dataframe tbody tr th:only-of-type {\n",
       "        vertical-align: middle;\n",
       "    }\n",
       "\n",
       "    .dataframe tbody tr th {\n",
       "        vertical-align: top;\n",
       "    }\n",
       "\n",
       "    .dataframe thead th {\n",
       "        text-align: right;\n",
       "    }\n",
       "</style>\n",
       "<table border=\"1\" class=\"dataframe\">\n",
       "  <thead>\n",
       "    <tr style=\"text-align: right;\">\n",
       "      <th></th>\n",
       "      <th>longitude</th>\n",
       "      <th>latitude</th>\n",
       "      <th>housing_median_age</th>\n",
       "      <th>total_rooms</th>\n",
       "      <th>total_bedrooms</th>\n",
       "      <th>population</th>\n",
       "      <th>households</th>\n",
       "      <th>median_income</th>\n",
       "      <th>median_house_value</th>\n",
       "      <th>ocean_proximity</th>\n",
       "    </tr>\n",
       "  </thead>\n",
       "  <tbody>\n",
       "    <tr>\n",
       "      <th>20558</th>\n",
       "      <td>-121.80</td>\n",
       "      <td>38.67</td>\n",
       "      <td>10.0</td>\n",
       "      <td>2086.0</td>\n",
       "      <td>380.0</td>\n",
       "      <td>1073.0</td>\n",
       "      <td>378.0</td>\n",
       "      <td>4.5526</td>\n",
       "      <td>154400.0</td>\n",
       "      <td>INLAND</td>\n",
       "    </tr>\n",
       "    <tr>\n",
       "      <th>11430</th>\n",
       "      <td>-117.97</td>\n",
       "      <td>33.66</td>\n",
       "      <td>22.0</td>\n",
       "      <td>3914.0</td>\n",
       "      <td>600.0</td>\n",
       "      <td>1871.0</td>\n",
       "      <td>607.0</td>\n",
       "      <td>5.8541</td>\n",
       "      <td>281500.0</td>\n",
       "      <td>&lt;1H OCEAN</td>\n",
       "    </tr>\n",
       "    <tr>\n",
       "      <th>2656</th>\n",
       "      <td>-124.25</td>\n",
       "      <td>40.28</td>\n",
       "      <td>32.0</td>\n",
       "      <td>1430.0</td>\n",
       "      <td>419.0</td>\n",
       "      <td>434.0</td>\n",
       "      <td>187.0</td>\n",
       "      <td>1.9417</td>\n",
       "      <td>76100.0</td>\n",
       "      <td>NEAR OCEAN</td>\n",
       "    </tr>\n",
       "    <tr>\n",
       "      <th>14267</th>\n",
       "      <td>-117.11</td>\n",
       "      <td>32.69</td>\n",
       "      <td>37.0</td>\n",
       "      <td>2395.0</td>\n",
       "      <td>627.0</td>\n",
       "      <td>2489.0</td>\n",
       "      <td>599.0</td>\n",
       "      <td>1.5933</td>\n",
       "      <td>86300.0</td>\n",
       "      <td>NEAR OCEAN</td>\n",
       "    </tr>\n",
       "    <tr>\n",
       "      <th>3684</th>\n",
       "      <td>-118.37</td>\n",
       "      <td>34.21</td>\n",
       "      <td>36.0</td>\n",
       "      <td>1392.0</td>\n",
       "      <td>326.0</td>\n",
       "      <td>1181.0</td>\n",
       "      <td>303.0</td>\n",
       "      <td>3.1563</td>\n",
       "      <td>176400.0</td>\n",
       "      <td>&lt;1H OCEAN</td>\n",
       "    </tr>\n",
       "    <tr>\n",
       "      <th>...</th>\n",
       "      <td>...</td>\n",
       "      <td>...</td>\n",
       "      <td>...</td>\n",
       "      <td>...</td>\n",
       "      <td>...</td>\n",
       "      <td>...</td>\n",
       "      <td>...</td>\n",
       "      <td>...</td>\n",
       "      <td>...</td>\n",
       "      <td>...</td>\n",
       "    </tr>\n",
       "    <tr>\n",
       "      <th>9909</th>\n",
       "      <td>-122.30</td>\n",
       "      <td>38.31</td>\n",
       "      <td>34.0</td>\n",
       "      <td>1797.0</td>\n",
       "      <td>395.0</td>\n",
       "      <td>1162.0</td>\n",
       "      <td>407.0</td>\n",
       "      <td>3.4550</td>\n",
       "      <td>137500.0</td>\n",
       "      <td>NEAR BAY</td>\n",
       "    </tr>\n",
       "    <tr>\n",
       "      <th>3531</th>\n",
       "      <td>-118.54</td>\n",
       "      <td>34.27</td>\n",
       "      <td>28.0</td>\n",
       "      <td>2309.0</td>\n",
       "      <td>300.0</td>\n",
       "      <td>931.0</td>\n",
       "      <td>302.0</td>\n",
       "      <td>6.7415</td>\n",
       "      <td>348200.0</td>\n",
       "      <td>&lt;1H OCEAN</td>\n",
       "    </tr>\n",
       "    <tr>\n",
       "      <th>7735</th>\n",
       "      <td>-118.13</td>\n",
       "      <td>33.93</td>\n",
       "      <td>34.0</td>\n",
       "      <td>2122.0</td>\n",
       "      <td>517.0</td>\n",
       "      <td>1578.0</td>\n",
       "      <td>488.0</td>\n",
       "      <td>3.1496</td>\n",
       "      <td>191900.0</td>\n",
       "      <td>&lt;1H OCEAN</td>\n",
       "    </tr>\n",
       "    <tr>\n",
       "      <th>4350</th>\n",
       "      <td>-118.37</td>\n",
       "      <td>34.11</td>\n",
       "      <td>42.0</td>\n",
       "      <td>5518.0</td>\n",
       "      <td>979.0</td>\n",
       "      <td>1863.0</td>\n",
       "      <td>957.0</td>\n",
       "      <td>8.5842</td>\n",
       "      <td>500001.0</td>\n",
       "      <td>&lt;1H OCEAN</td>\n",
       "    </tr>\n",
       "    <tr>\n",
       "      <th>4363</th>\n",
       "      <td>-118.37</td>\n",
       "      <td>34.08</td>\n",
       "      <td>52.0</td>\n",
       "      <td>1234.0</td>\n",
       "      <td>223.0</td>\n",
       "      <td>543.0</td>\n",
       "      <td>213.0</td>\n",
       "      <td>6.0338</td>\n",
       "      <td>423700.0</td>\n",
       "      <td>&lt;1H OCEAN</td>\n",
       "    </tr>\n",
       "  </tbody>\n",
       "</table>\n",
       "<p>16512 rows × 10 columns</p>\n",
       "</div>"
      ],
      "text/plain": [
       "       longitude  latitude  housing_median_age  total_rooms  total_bedrooms  \\\n",
       "20558    -121.80     38.67                10.0       2086.0           380.0   \n",
       "11430    -117.97     33.66                22.0       3914.0           600.0   \n",
       "2656     -124.25     40.28                32.0       1430.0           419.0   \n",
       "14267    -117.11     32.69                37.0       2395.0           627.0   \n",
       "3684     -118.37     34.21                36.0       1392.0           326.0   \n",
       "...          ...       ...                 ...          ...             ...   \n",
       "9909     -122.30     38.31                34.0       1797.0           395.0   \n",
       "3531     -118.54     34.27                28.0       2309.0           300.0   \n",
       "7735     -118.13     33.93                34.0       2122.0           517.0   \n",
       "4350     -118.37     34.11                42.0       5518.0           979.0   \n",
       "4363     -118.37     34.08                52.0       1234.0           223.0   \n",
       "\n",
       "       population  households  median_income  median_house_value  \\\n",
       "20558      1073.0       378.0         4.5526            154400.0   \n",
       "11430      1871.0       607.0         5.8541            281500.0   \n",
       "2656        434.0       187.0         1.9417             76100.0   \n",
       "14267      2489.0       599.0         1.5933             86300.0   \n",
       "3684       1181.0       303.0         3.1563            176400.0   \n",
       "...           ...         ...            ...                 ...   \n",
       "9909       1162.0       407.0         3.4550            137500.0   \n",
       "3531        931.0       302.0         6.7415            348200.0   \n",
       "7735       1578.0       488.0         3.1496            191900.0   \n",
       "4350       1863.0       957.0         8.5842            500001.0   \n",
       "4363        543.0       213.0         6.0338            423700.0   \n",
       "\n",
       "      ocean_proximity  \n",
       "20558          INLAND  \n",
       "11430       <1H OCEAN  \n",
       "2656       NEAR OCEAN  \n",
       "14267      NEAR OCEAN  \n",
       "3684        <1H OCEAN  \n",
       "...               ...  \n",
       "9909         NEAR BAY  \n",
       "3531        <1H OCEAN  \n",
       "7735        <1H OCEAN  \n",
       "4350        <1H OCEAN  \n",
       "4363        <1H OCEAN  \n",
       "\n",
       "[16512 rows x 10 columns]"
      ]
     },
     "metadata": {},
     "output_type": "display_data"
    }
   ],
   "source": [
    "df_train_val = pd.concat([df_train_6, df_val_6])\n",
    "\n",
    "display(df_train_val)"
   ]
  },
  {
   "cell_type": "code",
   "execution_count": 70,
   "id": "69274320",
   "metadata": {},
   "outputs": [
    {
     "data": {
      "text/plain": [
       "array([11.94730839, 12.54789128, 11.23981668, ..., 12.16473489,\n",
       "       13.12236738, 12.9567833 ])"
      ]
     },
     "execution_count": 70,
     "metadata": {},
     "output_type": "execute_result"
    }
   ],
   "source": [
    "y_train_val = []\n",
    "y_train_val = np.append(y_train_val, y_train_6)\n",
    "y_train_val = np.append(y_train_val, y_val_6)\n",
    "y_train_val"
   ]
  },
  {
   "cell_type": "code",
   "execution_count": 71,
   "id": "a5a1e05b",
   "metadata": {},
   "outputs": [],
   "source": [
    "del df_train_val['median_house_value']\n",
    "del df_test_6['median_house_value']\n",
    "\n",
    "del df_train_val['ocean_proximity']\n",
    "del df_test_6['ocean_proximity']\n"
   ]
  },
  {
   "cell_type": "code",
   "execution_count": 72,
   "id": "3c1df673",
   "metadata": {},
   "outputs": [
    {
     "name": "stdout",
     "output_type": "stream",
     "text": [
      "0.33659\n"
     ]
    }
   ],
   "source": [
    "X_train_6 = prepare_X(df_train_val)\n",
    "\n",
    "w0_6, w_6 = train_linear_regression_reg(X_train_6, y_train_val, 0.001)\n",
    "\n",
    "X_test_6 = prepare_X(df_test_6)\n",
    "    \n",
    "y_pred_6 = w0_6 + X_test_6.dot(w_6)\n",
    "score_6 = rmse(y_test_6, y_pred_6)\n",
    "print(round(score_5, 5))"
   ]
  },
  {
   "cell_type": "code",
   "execution_count": null,
   "id": "7be181b6",
   "metadata": {},
   "outputs": [],
   "source": []
  },
  {
   "cell_type": "code",
   "execution_count": null,
   "id": "1fd6e957",
   "metadata": {},
   "outputs": [],
   "source": []
  }
 ],
 "metadata": {
  "kernelspec": {
   "display_name": "Python 3 (ipykernel)",
   "language": "python",
   "name": "python3"
  },
  "language_info": {
   "codemirror_mode": {
    "name": "ipython",
    "version": 3
   },
   "file_extension": ".py",
   "mimetype": "text/x-python",
   "name": "python",
   "nbconvert_exporter": "python",
   "pygments_lexer": "ipython3",
   "version": "3.9.13"
  }
 },
 "nbformat": 4,
 "nbformat_minor": 5
}
